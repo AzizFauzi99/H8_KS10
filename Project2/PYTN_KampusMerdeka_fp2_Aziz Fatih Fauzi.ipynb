{
  "cells": [
    {
      "cell_type": "markdown",
      "metadata": {
        "id": "XZbNPv_iBqdg"
      },
      "source": [
        "# **[Python for Data Science] Final Project 1: Logistic Regression dan SVM**\n",
        "# **Hacktiv8**"
      ]
    },
    {
      "cell_type": "markdown",
      "metadata": {
        "id": "yGiXHJEWmB4w"
      },
      "source": [
        "# Predict next-day rain in Australia"
      ]
    },
    {
      "cell_type": "markdown",
      "metadata": {
        "id": "OWxuTFqLmB4w"
      },
      "source": [
        "## Introduction"
      ]
    },
    {
      "cell_type": "markdown",
      "metadata": {
        "id": "gTrzECgWBqdl"
      },
      "source": [
        "Halo! Kami dari Kelompok 8, yang beranggotakan:\n",
        "- Alpian Khairi\n",
        "- Aziz Fatih Fauzi\n",
        "- Fikri Fahreza\n",
        "\n",
        "Kami berharap dari Final Project ini bisa menghasilkan *feedback* atau komentar tentang analisis dan model yang telah kami buat.\n"
      ]
    },
    {
      "cell_type": "markdown",
      "metadata": {
        "id": "Bk0kn7hSmB4x"
      },
      "source": [
        "Pada projek kali ini kami menggunakan dataset yang berasal dari Kaggle yang dapat diakses link ini <https://www.kaggle.com/datasets/jsphyg/weather-dataset-rattle-package> . Database ini memiliki 23 atribut. Dengan data hujan harian selama 10 tahun di Australia,\n",
        "kolom RainTomorrow adalah target variable yang mau kita prediksi. Jika “Yes” maka\n",
        "besok harinya disana hujan 1mm atau lebih."
      ]
    },
    {
      "cell_type": "markdown",
      "metadata": {
        "id": "yOzyXpTXmB43"
      },
      "source": [
        "**Attribute Information:**\n",
        "1. Date - tanggal hari itu\n",
        "2. Location - lokasi, nama kota di Australia\n",
        "3. MinTemp - temperatur terendah hari itu dalam celcius\n",
        "4. MaxTemp - temperatur tertinggi hari itu dalam celcius\n",
        "5. Rainfall - jumlah curah hujan hari itu dalam mm\n",
        "6. Evaporation - jumlah evaporasi dalam mm dari Class A pan selama 24 jam\n",
        "sebelum jam 9 pagi hari itu\n",
        "7. Sunshine - jumlah jam hari itu cerah dengan cahaya matahari\n",
        "8. WindGustDir - arah kecepatan angin yang paling tinggi selama 24 jam sebelum\n",
        "jam 12 malam hari itu\n",
        "9. WindGustSpeed - kecepatan angin yang paling tinggi dalam km/jam selama 24\n",
        "jam sebelum jam 12 malam hari itu\n",
        "10. WindDir9am - arah angin jam 9 pagi\n",
        "11. WindDir3pm - arah angin jam 3 sore\n",
        "12. WindSpeed9am - kecepatan angin jam 9 pagi dalam km/jam dihitung dari\n",
        "rata-rata kecepatan angin 10 menit sebelum jam 9 pagi\n",
        "13. WindSpeed3pm - kecepatan angin jam 3 sore dalam km/jam dihitung dari\n",
        "rata-rata kecepatan angin 10 menit sebelum jam 3 sore\n",
        "14. Humidity9am - humiditas jam 9 pagi dalam persen\n",
        "15. Humidity3pm - humiditas jam 3 sore dalam persen\n",
        "16. Pressure9am - tekanan udara jam 9 pagi dalam hpa\n",
        "17. Pressure3pm - tekanan udara jam 3 sore dalam hpa\n",
        "18. Cloud9am - persentase langit yang tertutup awan jam 9 pagi. dihitung dalam\n",
        "oktas, unit ⅛, menghitung berapa unit ⅛ dari langit yang tertutup awan. Jika 0,\n",
        "langit cerah, jika 8, langit sepenuhnya tertutup awan.\n",
        "19. Cloud3pm - persentase langit yang tertutup awan jam 3 sore\n",
        "20. Temp9am - temperatur jam 9 pagi dalam celcius\n",
        "21. Temp3pm - temperatur jam 3 sore dalam celcius\n",
        "22. RainToday - apakah hari ini hujan: jika curah hujan 24 jam sebelum jam 9 pagi\n",
        "melebihi 1mm, maka nilai ini adalah 1, jika tidak nilai nya 0\n",
        "23. RainTomorrow - variable yang mau di prediksi"
      ]
    },
    {
      "cell_type": "markdown",
      "metadata": {
        "id": "uYvHtaXMmB44"
      },
      "source": [
        "Dalam projek ini kami akan menggunakan 2 model yakni Logistic Regression dan SVM."
      ]
    },
    {
      "cell_type": "markdown",
      "metadata": {
        "id": "HgOvaOGqmB44"
      },
      "source": [
        "# Data Preparation"
      ]
    },
    {
      "cell_type": "markdown",
      "metadata": {
        "id": "Txob9T-6mB44"
      },
      "source": [
        "### Import Libraries"
      ]
    },
    {
      "cell_type": "code",
      "execution_count": 2,
      "metadata": {
        "id": "0KOBtMp7mB45"
      },
      "outputs": [],
      "source": [
        "# Library For DataFrame\n",
        "import pandas as pd\n",
        "import numpy as np\n",
        "\n",
        "# For visualization\n",
        "import seaborn as sns\n",
        "import matplotlib.pyplot as plt\n",
        "from sklearn import metrics\n",
        "from sklearn.metrics import ConfusionMatrixDisplay, classification_report\n",
        "from sklearn.metrics import accuracy_score,f1_score, precision_score, recall_score, mean_squared_error\n",
        "\n",
        "# For Data Exploration\n",
        "from sklearn.preprocessing import LabelEncoder, StandardScaler\n",
        "from sklearn.model_selection import train_test_split\n",
        "\n",
        "\n",
        "# For Modelling\n",
        "from sklearn.linear_model import LogisticRegression\n",
        "from sklearn.svm import SVC\n",
        "\n",
        "\n",
        "# For ignore warning\n",
        "import warnings\n",
        "warnings.filterwarnings('ignore')\n",
        "\n",
        "# For API Adjustment\n",
        "import pickle\n"
      ]
    },
    {
      "cell_type": "markdown",
      "metadata": {
        "id": "mqP56-hWmB46"
      },
      "source": [
        "### Read Data"
      ]
    },
    {
      "cell_type": "code",
      "execution_count": 3,
      "metadata": {
        "colab": {
          "base_uri": "https://localhost:8080/",
          "height": 600
        },
        "id": "bbk0QcO2mB46",
        "outputId": "ca982562-4e60-45b8-d812-5704e12e4a93"
      },
      "outputs": [
        {
          "data": {
            "text/html": [
              "<div>\n",
              "<style scoped>\n",
              "    .dataframe tbody tr th:only-of-type {\n",
              "        vertical-align: middle;\n",
              "    }\n",
              "\n",
              "    .dataframe tbody tr th {\n",
              "        vertical-align: top;\n",
              "    }\n",
              "\n",
              "    .dataframe thead th {\n",
              "        text-align: right;\n",
              "    }\n",
              "</style>\n",
              "<table border=\"1\" class=\"dataframe\">\n",
              "  <thead>\n",
              "    <tr style=\"text-align: right;\">\n",
              "      <th></th>\n",
              "      <th>Date</th>\n",
              "      <th>Location</th>\n",
              "      <th>MinTemp</th>\n",
              "      <th>MaxTemp</th>\n",
              "      <th>Rainfall</th>\n",
              "      <th>Evaporation</th>\n",
              "      <th>Sunshine</th>\n",
              "      <th>WindGustDir</th>\n",
              "      <th>WindGustSpeed</th>\n",
              "      <th>WindDir9am</th>\n",
              "      <th>WindDir3pm</th>\n",
              "      <th>WindSpeed9am</th>\n",
              "      <th>WindSpeed3pm</th>\n",
              "      <th>Humidity9am</th>\n",
              "      <th>Humidity3pm</th>\n",
              "      <th>Pressure9am</th>\n",
              "      <th>Pressure3pm</th>\n",
              "      <th>Cloud9am</th>\n",
              "      <th>Cloud3pm</th>\n",
              "      <th>Temp9am</th>\n",
              "      <th>Temp3pm</th>\n",
              "      <th>RainToday</th>\n",
              "      <th>RainTomorrow</th>\n",
              "    </tr>\n",
              "  </thead>\n",
              "  <tbody>\n",
              "    <tr>\n",
              "      <th>0</th>\n",
              "      <td>2008-12-01</td>\n",
              "      <td>Albury</td>\n",
              "      <td>13.4</td>\n",
              "      <td>22.9</td>\n",
              "      <td>0.6</td>\n",
              "      <td>NaN</td>\n",
              "      <td>NaN</td>\n",
              "      <td>W</td>\n",
              "      <td>44.0</td>\n",
              "      <td>W</td>\n",
              "      <td>WNW</td>\n",
              "      <td>20.0</td>\n",
              "      <td>24.0</td>\n",
              "      <td>71.0</td>\n",
              "      <td>22.0</td>\n",
              "      <td>1007.7</td>\n",
              "      <td>1007.1</td>\n",
              "      <td>8.0</td>\n",
              "      <td>NaN</td>\n",
              "      <td>16.9</td>\n",
              "      <td>21.8</td>\n",
              "      <td>No</td>\n",
              "      <td>No</td>\n",
              "    </tr>\n",
              "    <tr>\n",
              "      <th>1</th>\n",
              "      <td>2008-12-02</td>\n",
              "      <td>Albury</td>\n",
              "      <td>7.4</td>\n",
              "      <td>25.1</td>\n",
              "      <td>0.0</td>\n",
              "      <td>NaN</td>\n",
              "      <td>NaN</td>\n",
              "      <td>WNW</td>\n",
              "      <td>44.0</td>\n",
              "      <td>NNW</td>\n",
              "      <td>WSW</td>\n",
              "      <td>4.0</td>\n",
              "      <td>22.0</td>\n",
              "      <td>44.0</td>\n",
              "      <td>25.0</td>\n",
              "      <td>1010.6</td>\n",
              "      <td>1007.8</td>\n",
              "      <td>NaN</td>\n",
              "      <td>NaN</td>\n",
              "      <td>17.2</td>\n",
              "      <td>24.3</td>\n",
              "      <td>No</td>\n",
              "      <td>No</td>\n",
              "    </tr>\n",
              "    <tr>\n",
              "      <th>2</th>\n",
              "      <td>2008-12-03</td>\n",
              "      <td>Albury</td>\n",
              "      <td>12.9</td>\n",
              "      <td>25.7</td>\n",
              "      <td>0.0</td>\n",
              "      <td>NaN</td>\n",
              "      <td>NaN</td>\n",
              "      <td>WSW</td>\n",
              "      <td>46.0</td>\n",
              "      <td>W</td>\n",
              "      <td>WSW</td>\n",
              "      <td>19.0</td>\n",
              "      <td>26.0</td>\n",
              "      <td>38.0</td>\n",
              "      <td>30.0</td>\n",
              "      <td>1007.6</td>\n",
              "      <td>1008.7</td>\n",
              "      <td>NaN</td>\n",
              "      <td>2.0</td>\n",
              "      <td>21.0</td>\n",
              "      <td>23.2</td>\n",
              "      <td>No</td>\n",
              "      <td>No</td>\n",
              "    </tr>\n",
              "    <tr>\n",
              "      <th>3</th>\n",
              "      <td>2008-12-04</td>\n",
              "      <td>Albury</td>\n",
              "      <td>9.2</td>\n",
              "      <td>28.0</td>\n",
              "      <td>0.0</td>\n",
              "      <td>NaN</td>\n",
              "      <td>NaN</td>\n",
              "      <td>NE</td>\n",
              "      <td>24.0</td>\n",
              "      <td>SE</td>\n",
              "      <td>E</td>\n",
              "      <td>11.0</td>\n",
              "      <td>9.0</td>\n",
              "      <td>45.0</td>\n",
              "      <td>16.0</td>\n",
              "      <td>1017.6</td>\n",
              "      <td>1012.8</td>\n",
              "      <td>NaN</td>\n",
              "      <td>NaN</td>\n",
              "      <td>18.1</td>\n",
              "      <td>26.5</td>\n",
              "      <td>No</td>\n",
              "      <td>No</td>\n",
              "    </tr>\n",
              "    <tr>\n",
              "      <th>4</th>\n",
              "      <td>2008-12-05</td>\n",
              "      <td>Albury</td>\n",
              "      <td>17.5</td>\n",
              "      <td>32.3</td>\n",
              "      <td>1.0</td>\n",
              "      <td>NaN</td>\n",
              "      <td>NaN</td>\n",
              "      <td>W</td>\n",
              "      <td>41.0</td>\n",
              "      <td>ENE</td>\n",
              "      <td>NW</td>\n",
              "      <td>7.0</td>\n",
              "      <td>20.0</td>\n",
              "      <td>82.0</td>\n",
              "      <td>33.0</td>\n",
              "      <td>1010.8</td>\n",
              "      <td>1006.0</td>\n",
              "      <td>7.0</td>\n",
              "      <td>8.0</td>\n",
              "      <td>17.8</td>\n",
              "      <td>29.7</td>\n",
              "      <td>No</td>\n",
              "      <td>No</td>\n",
              "    </tr>\n",
              "    <tr>\n",
              "      <th>5</th>\n",
              "      <td>2008-12-06</td>\n",
              "      <td>Albury</td>\n",
              "      <td>14.6</td>\n",
              "      <td>29.7</td>\n",
              "      <td>0.2</td>\n",
              "      <td>NaN</td>\n",
              "      <td>NaN</td>\n",
              "      <td>WNW</td>\n",
              "      <td>56.0</td>\n",
              "      <td>W</td>\n",
              "      <td>W</td>\n",
              "      <td>19.0</td>\n",
              "      <td>24.0</td>\n",
              "      <td>55.0</td>\n",
              "      <td>23.0</td>\n",
              "      <td>1009.2</td>\n",
              "      <td>1005.4</td>\n",
              "      <td>NaN</td>\n",
              "      <td>NaN</td>\n",
              "      <td>20.6</td>\n",
              "      <td>28.9</td>\n",
              "      <td>No</td>\n",
              "      <td>No</td>\n",
              "    </tr>\n",
              "    <tr>\n",
              "      <th>6</th>\n",
              "      <td>2008-12-07</td>\n",
              "      <td>Albury</td>\n",
              "      <td>14.3</td>\n",
              "      <td>25.0</td>\n",
              "      <td>0.0</td>\n",
              "      <td>NaN</td>\n",
              "      <td>NaN</td>\n",
              "      <td>W</td>\n",
              "      <td>50.0</td>\n",
              "      <td>SW</td>\n",
              "      <td>W</td>\n",
              "      <td>20.0</td>\n",
              "      <td>24.0</td>\n",
              "      <td>49.0</td>\n",
              "      <td>19.0</td>\n",
              "      <td>1009.6</td>\n",
              "      <td>1008.2</td>\n",
              "      <td>1.0</td>\n",
              "      <td>NaN</td>\n",
              "      <td>18.1</td>\n",
              "      <td>24.6</td>\n",
              "      <td>No</td>\n",
              "      <td>No</td>\n",
              "    </tr>\n",
              "    <tr>\n",
              "      <th>7</th>\n",
              "      <td>2008-12-08</td>\n",
              "      <td>Albury</td>\n",
              "      <td>7.7</td>\n",
              "      <td>26.7</td>\n",
              "      <td>0.0</td>\n",
              "      <td>NaN</td>\n",
              "      <td>NaN</td>\n",
              "      <td>W</td>\n",
              "      <td>35.0</td>\n",
              "      <td>SSE</td>\n",
              "      <td>W</td>\n",
              "      <td>6.0</td>\n",
              "      <td>17.0</td>\n",
              "      <td>48.0</td>\n",
              "      <td>19.0</td>\n",
              "      <td>1013.4</td>\n",
              "      <td>1010.1</td>\n",
              "      <td>NaN</td>\n",
              "      <td>NaN</td>\n",
              "      <td>16.3</td>\n",
              "      <td>25.5</td>\n",
              "      <td>No</td>\n",
              "      <td>No</td>\n",
              "    </tr>\n",
              "    <tr>\n",
              "      <th>8</th>\n",
              "      <td>2008-12-09</td>\n",
              "      <td>Albury</td>\n",
              "      <td>9.7</td>\n",
              "      <td>31.9</td>\n",
              "      <td>0.0</td>\n",
              "      <td>NaN</td>\n",
              "      <td>NaN</td>\n",
              "      <td>NNW</td>\n",
              "      <td>80.0</td>\n",
              "      <td>SE</td>\n",
              "      <td>NW</td>\n",
              "      <td>7.0</td>\n",
              "      <td>28.0</td>\n",
              "      <td>42.0</td>\n",
              "      <td>9.0</td>\n",
              "      <td>1008.9</td>\n",
              "      <td>1003.6</td>\n",
              "      <td>NaN</td>\n",
              "      <td>NaN</td>\n",
              "      <td>18.3</td>\n",
              "      <td>30.2</td>\n",
              "      <td>No</td>\n",
              "      <td>Yes</td>\n",
              "    </tr>\n",
              "    <tr>\n",
              "      <th>9</th>\n",
              "      <td>2008-12-10</td>\n",
              "      <td>Albury</td>\n",
              "      <td>13.1</td>\n",
              "      <td>30.1</td>\n",
              "      <td>1.4</td>\n",
              "      <td>NaN</td>\n",
              "      <td>NaN</td>\n",
              "      <td>W</td>\n",
              "      <td>28.0</td>\n",
              "      <td>S</td>\n",
              "      <td>SSE</td>\n",
              "      <td>15.0</td>\n",
              "      <td>11.0</td>\n",
              "      <td>58.0</td>\n",
              "      <td>27.0</td>\n",
              "      <td>1007.0</td>\n",
              "      <td>1005.7</td>\n",
              "      <td>NaN</td>\n",
              "      <td>NaN</td>\n",
              "      <td>20.1</td>\n",
              "      <td>28.2</td>\n",
              "      <td>Yes</td>\n",
              "      <td>No</td>\n",
              "    </tr>\n",
              "  </tbody>\n",
              "</table>\n",
              "</div>"
            ],
            "text/plain": [
              "         Date Location  MinTemp  MaxTemp  Rainfall  Evaporation  Sunshine  \\\n",
              "0  2008-12-01   Albury     13.4     22.9       0.6          NaN       NaN   \n",
              "1  2008-12-02   Albury      7.4     25.1       0.0          NaN       NaN   \n",
              "2  2008-12-03   Albury     12.9     25.7       0.0          NaN       NaN   \n",
              "3  2008-12-04   Albury      9.2     28.0       0.0          NaN       NaN   \n",
              "4  2008-12-05   Albury     17.5     32.3       1.0          NaN       NaN   \n",
              "5  2008-12-06   Albury     14.6     29.7       0.2          NaN       NaN   \n",
              "6  2008-12-07   Albury     14.3     25.0       0.0          NaN       NaN   \n",
              "7  2008-12-08   Albury      7.7     26.7       0.0          NaN       NaN   \n",
              "8  2008-12-09   Albury      9.7     31.9       0.0          NaN       NaN   \n",
              "9  2008-12-10   Albury     13.1     30.1       1.4          NaN       NaN   \n",
              "\n",
              "  WindGustDir  WindGustSpeed WindDir9am WindDir3pm  WindSpeed9am  \\\n",
              "0           W           44.0          W        WNW          20.0   \n",
              "1         WNW           44.0        NNW        WSW           4.0   \n",
              "2         WSW           46.0          W        WSW          19.0   \n",
              "3          NE           24.0         SE          E          11.0   \n",
              "4           W           41.0        ENE         NW           7.0   \n",
              "5         WNW           56.0          W          W          19.0   \n",
              "6           W           50.0         SW          W          20.0   \n",
              "7           W           35.0        SSE          W           6.0   \n",
              "8         NNW           80.0         SE         NW           7.0   \n",
              "9           W           28.0          S        SSE          15.0   \n",
              "\n",
              "   WindSpeed3pm  Humidity9am  Humidity3pm  Pressure9am  Pressure3pm  Cloud9am  \\\n",
              "0          24.0         71.0         22.0       1007.7       1007.1       8.0   \n",
              "1          22.0         44.0         25.0       1010.6       1007.8       NaN   \n",
              "2          26.0         38.0         30.0       1007.6       1008.7       NaN   \n",
              "3           9.0         45.0         16.0       1017.6       1012.8       NaN   \n",
              "4          20.0         82.0         33.0       1010.8       1006.0       7.0   \n",
              "5          24.0         55.0         23.0       1009.2       1005.4       NaN   \n",
              "6          24.0         49.0         19.0       1009.6       1008.2       1.0   \n",
              "7          17.0         48.0         19.0       1013.4       1010.1       NaN   \n",
              "8          28.0         42.0          9.0       1008.9       1003.6       NaN   \n",
              "9          11.0         58.0         27.0       1007.0       1005.7       NaN   \n",
              "\n",
              "   Cloud3pm  Temp9am  Temp3pm RainToday RainTomorrow  \n",
              "0       NaN     16.9     21.8        No           No  \n",
              "1       NaN     17.2     24.3        No           No  \n",
              "2       2.0     21.0     23.2        No           No  \n",
              "3       NaN     18.1     26.5        No           No  \n",
              "4       8.0     17.8     29.7        No           No  \n",
              "5       NaN     20.6     28.9        No           No  \n",
              "6       NaN     18.1     24.6        No           No  \n",
              "7       NaN     16.3     25.5        No           No  \n",
              "8       NaN     18.3     30.2        No          Yes  \n",
              "9       NaN     20.1     28.2       Yes           No  "
            ]
          },
          "execution_count": 3,
          "metadata": {},
          "output_type": "execute_result"
        }
      ],
      "source": [
        "pd.set_option(\"display.max_columns\", None)\n",
        "\n",
        "df = pd.read_csv('weatherAUS.csv')\n",
        "df.head(10)"
      ]
    },
    {
      "cell_type": "code",
      "execution_count": 4,
      "metadata": {
        "colab": {
          "base_uri": "https://localhost:8080/"
        },
        "id": "N8YW2mROmB47",
        "outputId": "97a09bb1-0295-4bfd-df98-11b76d7e10fa"
      },
      "outputs": [
        {
          "data": {
            "text/plain": [
              "(145460, 23)"
            ]
          },
          "execution_count": 4,
          "metadata": {},
          "output_type": "execute_result"
        }
      ],
      "source": [
        "df.shape"
      ]
    },
    {
      "cell_type": "code",
      "execution_count": 5,
      "metadata": {
        "colab": {
          "base_uri": "https://localhost:8080/"
        },
        "id": "BcywlLkNmB47",
        "outputId": "dd785b22-cbfa-4a4e-c369-f4fc8a9a967c"
      },
      "outputs": [
        {
          "name": "stdout",
          "output_type": "stream",
          "text": [
            "<class 'pandas.core.frame.DataFrame'>\n",
            "RangeIndex: 145460 entries, 0 to 145459\n",
            "Data columns (total 23 columns):\n",
            " #   Column         Non-Null Count   Dtype  \n",
            "---  ------         --------------   -----  \n",
            " 0   Date           145460 non-null  object \n",
            " 1   Location       145460 non-null  object \n",
            " 2   MinTemp        143975 non-null  float64\n",
            " 3   MaxTemp        144199 non-null  float64\n",
            " 4   Rainfall       142199 non-null  float64\n",
            " 5   Evaporation    82670 non-null   float64\n",
            " 6   Sunshine       75625 non-null   float64\n",
            " 7   WindGustDir    135134 non-null  object \n",
            " 8   WindGustSpeed  135197 non-null  float64\n",
            " 9   WindDir9am     134894 non-null  object \n",
            " 10  WindDir3pm     141232 non-null  object \n",
            " 11  WindSpeed9am   143693 non-null  float64\n",
            " 12  WindSpeed3pm   142398 non-null  float64\n",
            " 13  Humidity9am    142806 non-null  float64\n",
            " 14  Humidity3pm    140953 non-null  float64\n",
            " 15  Pressure9am    130395 non-null  float64\n",
            " 16  Pressure3pm    130432 non-null  float64\n",
            " 17  Cloud9am       89572 non-null   float64\n",
            " 18  Cloud3pm       86102 non-null   float64\n",
            " 19  Temp9am        143693 non-null  float64\n",
            " 20  Temp3pm        141851 non-null  float64\n",
            " 21  RainToday      142199 non-null  object \n",
            " 22  RainTomorrow   142193 non-null  object \n",
            "dtypes: float64(16), object(7)\n",
            "memory usage: 25.5+ MB\n"
          ]
        }
      ],
      "source": [
        "df.info()"
      ]
    },
    {
      "cell_type": "code",
      "execution_count": 6,
      "metadata": {
        "colab": {
          "base_uri": "https://localhost:8080/",
          "height": 364
        },
        "id": "XsNrtnlCmB47",
        "outputId": "46cf6aba-f5b1-4c51-d9bd-babdd8e79120"
      },
      "outputs": [
        {
          "data": {
            "text/html": [
              "<div>\n",
              "<style scoped>\n",
              "    .dataframe tbody tr th:only-of-type {\n",
              "        vertical-align: middle;\n",
              "    }\n",
              "\n",
              "    .dataframe tbody tr th {\n",
              "        vertical-align: top;\n",
              "    }\n",
              "\n",
              "    .dataframe thead th {\n",
              "        text-align: right;\n",
              "    }\n",
              "</style>\n",
              "<table border=\"1\" class=\"dataframe\">\n",
              "  <thead>\n",
              "    <tr style=\"text-align: right;\">\n",
              "      <th></th>\n",
              "      <th>MinTemp</th>\n",
              "      <th>MaxTemp</th>\n",
              "      <th>Rainfall</th>\n",
              "      <th>Evaporation</th>\n",
              "      <th>Sunshine</th>\n",
              "      <th>WindGustSpeed</th>\n",
              "      <th>WindSpeed9am</th>\n",
              "      <th>WindSpeed3pm</th>\n",
              "      <th>Humidity9am</th>\n",
              "      <th>Humidity3pm</th>\n",
              "      <th>Pressure9am</th>\n",
              "      <th>Pressure3pm</th>\n",
              "      <th>Cloud9am</th>\n",
              "      <th>Cloud3pm</th>\n",
              "      <th>Temp9am</th>\n",
              "      <th>Temp3pm</th>\n",
              "    </tr>\n",
              "  </thead>\n",
              "  <tbody>\n",
              "    <tr>\n",
              "      <th>count</th>\n",
              "      <td>143975.000000</td>\n",
              "      <td>144199.000000</td>\n",
              "      <td>142199.000000</td>\n",
              "      <td>82670.000000</td>\n",
              "      <td>75625.000000</td>\n",
              "      <td>135197.000000</td>\n",
              "      <td>143693.000000</td>\n",
              "      <td>142398.000000</td>\n",
              "      <td>142806.000000</td>\n",
              "      <td>140953.000000</td>\n",
              "      <td>130395.00000</td>\n",
              "      <td>130432.000000</td>\n",
              "      <td>89572.000000</td>\n",
              "      <td>86102.000000</td>\n",
              "      <td>143693.000000</td>\n",
              "      <td>141851.00000</td>\n",
              "    </tr>\n",
              "    <tr>\n",
              "      <th>mean</th>\n",
              "      <td>12.194034</td>\n",
              "      <td>23.221348</td>\n",
              "      <td>2.360918</td>\n",
              "      <td>5.468232</td>\n",
              "      <td>7.611178</td>\n",
              "      <td>40.035230</td>\n",
              "      <td>14.043426</td>\n",
              "      <td>18.662657</td>\n",
              "      <td>68.880831</td>\n",
              "      <td>51.539116</td>\n",
              "      <td>1017.64994</td>\n",
              "      <td>1015.255889</td>\n",
              "      <td>4.447461</td>\n",
              "      <td>4.509930</td>\n",
              "      <td>16.990631</td>\n",
              "      <td>21.68339</td>\n",
              "    </tr>\n",
              "    <tr>\n",
              "      <th>std</th>\n",
              "      <td>6.398495</td>\n",
              "      <td>7.119049</td>\n",
              "      <td>8.478060</td>\n",
              "      <td>4.193704</td>\n",
              "      <td>3.785483</td>\n",
              "      <td>13.607062</td>\n",
              "      <td>8.915375</td>\n",
              "      <td>8.809800</td>\n",
              "      <td>19.029164</td>\n",
              "      <td>20.795902</td>\n",
              "      <td>7.10653</td>\n",
              "      <td>7.037414</td>\n",
              "      <td>2.887159</td>\n",
              "      <td>2.720357</td>\n",
              "      <td>6.488753</td>\n",
              "      <td>6.93665</td>\n",
              "    </tr>\n",
              "    <tr>\n",
              "      <th>min</th>\n",
              "      <td>-8.500000</td>\n",
              "      <td>-4.800000</td>\n",
              "      <td>0.000000</td>\n",
              "      <td>0.000000</td>\n",
              "      <td>0.000000</td>\n",
              "      <td>6.000000</td>\n",
              "      <td>0.000000</td>\n",
              "      <td>0.000000</td>\n",
              "      <td>0.000000</td>\n",
              "      <td>0.000000</td>\n",
              "      <td>980.50000</td>\n",
              "      <td>977.100000</td>\n",
              "      <td>0.000000</td>\n",
              "      <td>0.000000</td>\n",
              "      <td>-7.200000</td>\n",
              "      <td>-5.40000</td>\n",
              "    </tr>\n",
              "    <tr>\n",
              "      <th>25%</th>\n",
              "      <td>7.600000</td>\n",
              "      <td>17.900000</td>\n",
              "      <td>0.000000</td>\n",
              "      <td>2.600000</td>\n",
              "      <td>4.800000</td>\n",
              "      <td>31.000000</td>\n",
              "      <td>7.000000</td>\n",
              "      <td>13.000000</td>\n",
              "      <td>57.000000</td>\n",
              "      <td>37.000000</td>\n",
              "      <td>1012.90000</td>\n",
              "      <td>1010.400000</td>\n",
              "      <td>1.000000</td>\n",
              "      <td>2.000000</td>\n",
              "      <td>12.300000</td>\n",
              "      <td>16.60000</td>\n",
              "    </tr>\n",
              "    <tr>\n",
              "      <th>50%</th>\n",
              "      <td>12.000000</td>\n",
              "      <td>22.600000</td>\n",
              "      <td>0.000000</td>\n",
              "      <td>4.800000</td>\n",
              "      <td>8.400000</td>\n",
              "      <td>39.000000</td>\n",
              "      <td>13.000000</td>\n",
              "      <td>19.000000</td>\n",
              "      <td>70.000000</td>\n",
              "      <td>52.000000</td>\n",
              "      <td>1017.60000</td>\n",
              "      <td>1015.200000</td>\n",
              "      <td>5.000000</td>\n",
              "      <td>5.000000</td>\n",
              "      <td>16.700000</td>\n",
              "      <td>21.10000</td>\n",
              "    </tr>\n",
              "    <tr>\n",
              "      <th>75%</th>\n",
              "      <td>16.900000</td>\n",
              "      <td>28.200000</td>\n",
              "      <td>0.800000</td>\n",
              "      <td>7.400000</td>\n",
              "      <td>10.600000</td>\n",
              "      <td>48.000000</td>\n",
              "      <td>19.000000</td>\n",
              "      <td>24.000000</td>\n",
              "      <td>83.000000</td>\n",
              "      <td>66.000000</td>\n",
              "      <td>1022.40000</td>\n",
              "      <td>1020.000000</td>\n",
              "      <td>7.000000</td>\n",
              "      <td>7.000000</td>\n",
              "      <td>21.600000</td>\n",
              "      <td>26.40000</td>\n",
              "    </tr>\n",
              "    <tr>\n",
              "      <th>max</th>\n",
              "      <td>33.900000</td>\n",
              "      <td>48.100000</td>\n",
              "      <td>371.000000</td>\n",
              "      <td>145.000000</td>\n",
              "      <td>14.500000</td>\n",
              "      <td>135.000000</td>\n",
              "      <td>130.000000</td>\n",
              "      <td>87.000000</td>\n",
              "      <td>100.000000</td>\n",
              "      <td>100.000000</td>\n",
              "      <td>1041.00000</td>\n",
              "      <td>1039.600000</td>\n",
              "      <td>9.000000</td>\n",
              "      <td>9.000000</td>\n",
              "      <td>40.200000</td>\n",
              "      <td>46.70000</td>\n",
              "    </tr>\n",
              "  </tbody>\n",
              "</table>\n",
              "</div>"
            ],
            "text/plain": [
              "             MinTemp        MaxTemp       Rainfall   Evaporation  \\\n",
              "count  143975.000000  144199.000000  142199.000000  82670.000000   \n",
              "mean       12.194034      23.221348       2.360918      5.468232   \n",
              "std         6.398495       7.119049       8.478060      4.193704   \n",
              "min        -8.500000      -4.800000       0.000000      0.000000   \n",
              "25%         7.600000      17.900000       0.000000      2.600000   \n",
              "50%        12.000000      22.600000       0.000000      4.800000   \n",
              "75%        16.900000      28.200000       0.800000      7.400000   \n",
              "max        33.900000      48.100000     371.000000    145.000000   \n",
              "\n",
              "           Sunshine  WindGustSpeed   WindSpeed9am   WindSpeed3pm  \\\n",
              "count  75625.000000  135197.000000  143693.000000  142398.000000   \n",
              "mean       7.611178      40.035230      14.043426      18.662657   \n",
              "std        3.785483      13.607062       8.915375       8.809800   \n",
              "min        0.000000       6.000000       0.000000       0.000000   \n",
              "25%        4.800000      31.000000       7.000000      13.000000   \n",
              "50%        8.400000      39.000000      13.000000      19.000000   \n",
              "75%       10.600000      48.000000      19.000000      24.000000   \n",
              "max       14.500000     135.000000     130.000000      87.000000   \n",
              "\n",
              "         Humidity9am    Humidity3pm   Pressure9am    Pressure3pm  \\\n",
              "count  142806.000000  140953.000000  130395.00000  130432.000000   \n",
              "mean       68.880831      51.539116    1017.64994    1015.255889   \n",
              "std        19.029164      20.795902       7.10653       7.037414   \n",
              "min         0.000000       0.000000     980.50000     977.100000   \n",
              "25%        57.000000      37.000000    1012.90000    1010.400000   \n",
              "50%        70.000000      52.000000    1017.60000    1015.200000   \n",
              "75%        83.000000      66.000000    1022.40000    1020.000000   \n",
              "max       100.000000     100.000000    1041.00000    1039.600000   \n",
              "\n",
              "           Cloud9am      Cloud3pm        Temp9am       Temp3pm  \n",
              "count  89572.000000  86102.000000  143693.000000  141851.00000  \n",
              "mean       4.447461      4.509930      16.990631      21.68339  \n",
              "std        2.887159      2.720357       6.488753       6.93665  \n",
              "min        0.000000      0.000000      -7.200000      -5.40000  \n",
              "25%        1.000000      2.000000      12.300000      16.60000  \n",
              "50%        5.000000      5.000000      16.700000      21.10000  \n",
              "75%        7.000000      7.000000      21.600000      26.40000  \n",
              "max        9.000000      9.000000      40.200000      46.70000  "
            ]
          },
          "execution_count": 6,
          "metadata": {},
          "output_type": "execute_result"
        }
      ],
      "source": [
        "df.describe()"
      ]
    },
    {
      "cell_type": "code",
      "execution_count": 7,
      "metadata": {
        "colab": {
          "base_uri": "https://localhost:8080/",
          "height": 175
        },
        "id": "pAiZA2pmmB47",
        "outputId": "3567b305-9e64-42a5-8a26-e4060697afd5"
      },
      "outputs": [
        {
          "data": {
            "text/html": [
              "<div>\n",
              "<style scoped>\n",
              "    .dataframe tbody tr th:only-of-type {\n",
              "        vertical-align: middle;\n",
              "    }\n",
              "\n",
              "    .dataframe tbody tr th {\n",
              "        vertical-align: top;\n",
              "    }\n",
              "\n",
              "    .dataframe thead th {\n",
              "        text-align: right;\n",
              "    }\n",
              "</style>\n",
              "<table border=\"1\" class=\"dataframe\">\n",
              "  <thead>\n",
              "    <tr style=\"text-align: right;\">\n",
              "      <th></th>\n",
              "      <th>Date</th>\n",
              "      <th>Location</th>\n",
              "      <th>WindGustDir</th>\n",
              "      <th>WindDir9am</th>\n",
              "      <th>WindDir3pm</th>\n",
              "      <th>RainToday</th>\n",
              "      <th>RainTomorrow</th>\n",
              "    </tr>\n",
              "  </thead>\n",
              "  <tbody>\n",
              "    <tr>\n",
              "      <th>count</th>\n",
              "      <td>145460</td>\n",
              "      <td>145460</td>\n",
              "      <td>135134</td>\n",
              "      <td>134894</td>\n",
              "      <td>141232</td>\n",
              "      <td>142199</td>\n",
              "      <td>142193</td>\n",
              "    </tr>\n",
              "    <tr>\n",
              "      <th>unique</th>\n",
              "      <td>3436</td>\n",
              "      <td>49</td>\n",
              "      <td>16</td>\n",
              "      <td>16</td>\n",
              "      <td>16</td>\n",
              "      <td>2</td>\n",
              "      <td>2</td>\n",
              "    </tr>\n",
              "    <tr>\n",
              "      <th>top</th>\n",
              "      <td>2013-11-12</td>\n",
              "      <td>Canberra</td>\n",
              "      <td>W</td>\n",
              "      <td>N</td>\n",
              "      <td>SE</td>\n",
              "      <td>No</td>\n",
              "      <td>No</td>\n",
              "    </tr>\n",
              "    <tr>\n",
              "      <th>freq</th>\n",
              "      <td>49</td>\n",
              "      <td>3436</td>\n",
              "      <td>9915</td>\n",
              "      <td>11758</td>\n",
              "      <td>10838</td>\n",
              "      <td>110319</td>\n",
              "      <td>110316</td>\n",
              "    </tr>\n",
              "  </tbody>\n",
              "</table>\n",
              "</div>"
            ],
            "text/plain": [
              "              Date  Location WindGustDir WindDir9am WindDir3pm RainToday  \\\n",
              "count       145460    145460      135134     134894     141232    142199   \n",
              "unique        3436        49          16         16         16         2   \n",
              "top     2013-11-12  Canberra           W          N         SE        No   \n",
              "freq            49      3436        9915      11758      10838    110319   \n",
              "\n",
              "       RainTomorrow  \n",
              "count        142193  \n",
              "unique            2  \n",
              "top              No  \n",
              "freq         110316  "
            ]
          },
          "execution_count": 7,
          "metadata": {},
          "output_type": "execute_result"
        }
      ],
      "source": [
        "df.describe(include = object)"
      ]
    },
    {
      "cell_type": "markdown",
      "metadata": {
        "id": "ADshiWZ3mB48"
      },
      "source": [
        "# Data Cleansing"
      ]
    },
    {
      "cell_type": "markdown",
      "metadata": {
        "id": "hNxg0rPnmB48"
      },
      "source": [
        "Hal pertama yang akan dilakukan adalah mengecek apakah data memiliki missing value atau tidak, dan jika ada maka perlu dilakukan pembersihan agar tahapan modelling dapat dilanjutkan."
      ]
    },
    {
      "cell_type": "code",
      "execution_count": 8,
      "metadata": {
        "colab": {
          "base_uri": "https://localhost:8080/",
          "height": 770
        },
        "id": "L-QhysdTmB48",
        "outputId": "fb4926fc-c982-47d9-eff6-ad5351d7c0dd"
      },
      "outputs": [
        {
          "data": {
            "text/html": [
              "<div>\n",
              "<style scoped>\n",
              "    .dataframe tbody tr th:only-of-type {\n",
              "        vertical-align: middle;\n",
              "    }\n",
              "\n",
              "    .dataframe tbody tr th {\n",
              "        vertical-align: top;\n",
              "    }\n",
              "\n",
              "    .dataframe thead th {\n",
              "        text-align: right;\n",
              "    }\n",
              "</style>\n",
              "<table border=\"1\" class=\"dataframe\">\n",
              "  <thead>\n",
              "    <tr style=\"text-align: right;\">\n",
              "      <th></th>\n",
              "      <th>no.of missing values</th>\n",
              "      <th>% missing_values</th>\n",
              "    </tr>\n",
              "  </thead>\n",
              "  <tbody>\n",
              "    <tr>\n",
              "      <th>Date</th>\n",
              "      <td>0</td>\n",
              "      <td>0.0</td>\n",
              "    </tr>\n",
              "    <tr>\n",
              "      <th>Location</th>\n",
              "      <td>0</td>\n",
              "      <td>0.0</td>\n",
              "    </tr>\n",
              "    <tr>\n",
              "      <th>MinTemp</th>\n",
              "      <td>1485</td>\n",
              "      <td>1.0</td>\n",
              "    </tr>\n",
              "    <tr>\n",
              "      <th>MaxTemp</th>\n",
              "      <td>1261</td>\n",
              "      <td>1.0</td>\n",
              "    </tr>\n",
              "    <tr>\n",
              "      <th>Rainfall</th>\n",
              "      <td>3261</td>\n",
              "      <td>2.0</td>\n",
              "    </tr>\n",
              "    <tr>\n",
              "      <th>Evaporation</th>\n",
              "      <td>62790</td>\n",
              "      <td>43.0</td>\n",
              "    </tr>\n",
              "    <tr>\n",
              "      <th>Sunshine</th>\n",
              "      <td>69835</td>\n",
              "      <td>48.0</td>\n",
              "    </tr>\n",
              "    <tr>\n",
              "      <th>WindGustDir</th>\n",
              "      <td>10326</td>\n",
              "      <td>7.0</td>\n",
              "    </tr>\n",
              "    <tr>\n",
              "      <th>WindGustSpeed</th>\n",
              "      <td>10263</td>\n",
              "      <td>7.0</td>\n",
              "    </tr>\n",
              "    <tr>\n",
              "      <th>WindDir9am</th>\n",
              "      <td>10566</td>\n",
              "      <td>7.0</td>\n",
              "    </tr>\n",
              "    <tr>\n",
              "      <th>WindDir3pm</th>\n",
              "      <td>4228</td>\n",
              "      <td>3.0</td>\n",
              "    </tr>\n",
              "    <tr>\n",
              "      <th>WindSpeed9am</th>\n",
              "      <td>1767</td>\n",
              "      <td>1.0</td>\n",
              "    </tr>\n",
              "    <tr>\n",
              "      <th>WindSpeed3pm</th>\n",
              "      <td>3062</td>\n",
              "      <td>2.0</td>\n",
              "    </tr>\n",
              "    <tr>\n",
              "      <th>Humidity9am</th>\n",
              "      <td>2654</td>\n",
              "      <td>2.0</td>\n",
              "    </tr>\n",
              "    <tr>\n",
              "      <th>Humidity3pm</th>\n",
              "      <td>4507</td>\n",
              "      <td>3.0</td>\n",
              "    </tr>\n",
              "    <tr>\n",
              "      <th>Pressure9am</th>\n",
              "      <td>15065</td>\n",
              "      <td>10.0</td>\n",
              "    </tr>\n",
              "    <tr>\n",
              "      <th>Pressure3pm</th>\n",
              "      <td>15028</td>\n",
              "      <td>10.0</td>\n",
              "    </tr>\n",
              "    <tr>\n",
              "      <th>Cloud9am</th>\n",
              "      <td>55888</td>\n",
              "      <td>38.0</td>\n",
              "    </tr>\n",
              "    <tr>\n",
              "      <th>Cloud3pm</th>\n",
              "      <td>59358</td>\n",
              "      <td>41.0</td>\n",
              "    </tr>\n",
              "    <tr>\n",
              "      <th>Temp9am</th>\n",
              "      <td>1767</td>\n",
              "      <td>1.0</td>\n",
              "    </tr>\n",
              "    <tr>\n",
              "      <th>Temp3pm</th>\n",
              "      <td>3609</td>\n",
              "      <td>2.0</td>\n",
              "    </tr>\n",
              "    <tr>\n",
              "      <th>RainToday</th>\n",
              "      <td>3261</td>\n",
              "      <td>2.0</td>\n",
              "    </tr>\n",
              "    <tr>\n",
              "      <th>RainTomorrow</th>\n",
              "      <td>3267</td>\n",
              "      <td>2.0</td>\n",
              "    </tr>\n",
              "  </tbody>\n",
              "</table>\n",
              "</div>"
            ],
            "text/plain": [
              "               no.of missing values  % missing_values\n",
              "Date                              0               0.0\n",
              "Location                          0               0.0\n",
              "MinTemp                        1485               1.0\n",
              "MaxTemp                        1261               1.0\n",
              "Rainfall                       3261               2.0\n",
              "Evaporation                   62790              43.0\n",
              "Sunshine                      69835              48.0\n",
              "WindGustDir                   10326               7.0\n",
              "WindGustSpeed                 10263               7.0\n",
              "WindDir9am                    10566               7.0\n",
              "WindDir3pm                     4228               3.0\n",
              "WindSpeed9am                   1767               1.0\n",
              "WindSpeed3pm                   3062               2.0\n",
              "Humidity9am                    2654               2.0\n",
              "Humidity3pm                    4507               3.0\n",
              "Pressure9am                   15065              10.0\n",
              "Pressure3pm                   15028              10.0\n",
              "Cloud9am                      55888              38.0\n",
              "Cloud3pm                      59358              41.0\n",
              "Temp9am                        1767               1.0\n",
              "Temp3pm                        3609               2.0\n",
              "RainToday                      3261               2.0\n",
              "RainTomorrow                   3267               2.0"
            ]
          },
          "execution_count": 8,
          "metadata": {},
          "output_type": "execute_result"
        }
      ],
      "source": [
        "missing = pd.DataFrame(df.isnull().sum(),columns = ['no.of missing values'])\n",
        "\n",
        "missing['% missing_values']= (missing/len(df)).round(2)*100\n",
        "missing"
      ]
    },
    {
      "cell_type": "markdown",
      "metadata": {
        "id": "F8KJBeokmB48"
      },
      "source": [
        "Pada tabel diatas dapat dilihat bahwa kolom **Evaporation**, **Sunshine**, **Cloud9am** dan **Cloud3pm** memiliki missing values lebih dari 30% maka penanganan yang akan dilakukan untuk variabel-variabel ini adalah dengan membuangnya. Sedangkan variabel **WindGustDir**, **WindDir9am**, **WindDir3pm**, **RainToday** dan **RainTomorrow** akan dibuang baris yang mengandung missing values. Adapun untuk variabel2 lain akan dilakukan imputasi dengan nilai mean masing-masing kolom. "
      ]
    },
    {
      "cell_type": "code",
      "execution_count": 9,
      "metadata": {
        "id": "I5w1hoyJmB49"
      },
      "outputs": [],
      "source": [
        "df.drop(columns=['Evaporation','Sunshine','Cloud9am','Cloud3pm'],inplace=True)\n",
        "\n",
        "df.dropna(subset=['RainToday','RainTomorrow', 'WindGustDir', 'WindDir9am', 'WindDir3pm'], inplace=True)\n"
      ]
    },
    {
      "cell_type": "code",
      "execution_count": 10,
      "metadata": {
        "id": "VCUFLY9-mB49"
      },
      "outputs": [],
      "source": [
        "while True :\n",
        "    df['MinTemp']=df['MinTemp'].fillna(df['MinTemp'].rolling(6,min_periods=1).mean())\n",
        "    if df['MinTemp'].isnull().any()==False:\n",
        "        break"
      ]
    },
    {
      "cell_type": "code",
      "execution_count": 11,
      "metadata": {
        "id": "5DIx9jj5mB49"
      },
      "outputs": [],
      "source": [
        "while True :\n",
        "    df['MaxTemp']=df['MaxTemp'].fillna(df['MaxTemp'].rolling(6,min_periods=1).mean())\n",
        "    if df['MaxTemp'].isnull().any()==False:\n",
        "        break"
      ]
    },
    {
      "cell_type": "code",
      "execution_count": 12,
      "metadata": {
        "id": "BEwRea6YmB49"
      },
      "outputs": [],
      "source": [
        "while True :\n",
        "    df['Rainfall']=df['Rainfall'].fillna(df['Rainfall'].rolling(6,min_periods=1).mean())\n",
        "    if df['Rainfall'].isnull().any()==False:\n",
        "        break"
      ]
    },
    {
      "cell_type": "code",
      "execution_count": 13,
      "metadata": {
        "id": "yxXADwyHmB49"
      },
      "outputs": [],
      "source": [
        "while True :\n",
        "    df['WindGustSpeed']=df['WindGustSpeed'].fillna(df['WindGustSpeed'].rolling(6,min_periods=1).mean())\n",
        "    if df['WindGustSpeed'].isnull().any()==False:\n",
        "        break"
      ]
    },
    {
      "cell_type": "code",
      "execution_count": 14,
      "metadata": {
        "id": "D7e1BWaumB4-"
      },
      "outputs": [],
      "source": [
        "while True :\n",
        "    df['WindSpeed9am']=df['WindSpeed9am'].fillna(df['WindSpeed9am'].rolling(6,min_periods=1).mean())\n",
        "    if df['WindSpeed9am'].isnull().any()==False:\n",
        "        break"
      ]
    },
    {
      "cell_type": "code",
      "execution_count": 15,
      "metadata": {
        "id": "wg4SuhN3mB4-"
      },
      "outputs": [],
      "source": [
        "while True :\n",
        "    df['WindSpeed3pm']=df['WindSpeed3pm'].fillna(df['WindSpeed3pm'].rolling(6,min_periods=1).mean())\n",
        "    if df['WindSpeed3pm'].isnull().any()==False:\n",
        "        break"
      ]
    },
    {
      "cell_type": "code",
      "execution_count": 16,
      "metadata": {
        "id": "7_dxLBx6mB4-"
      },
      "outputs": [],
      "source": [
        "while True :\n",
        "    df['Humidity9am']=df['Humidity9am'].fillna(df['Humidity9am'].rolling(6,min_periods=1).mean())\n",
        "    if df['Humidity9am'].isnull().any()==False:\n",
        "        break"
      ]
    },
    {
      "cell_type": "code",
      "execution_count": 17,
      "metadata": {
        "id": "srom9GYhmB4-"
      },
      "outputs": [],
      "source": [
        "while True :\n",
        "    df['Humidity3pm']=df['Humidity3pm'].fillna(df['Humidity3pm'].rolling(6,min_periods=1).mean())\n",
        "    if df['Humidity3pm'].isnull().any()==False:\n",
        "        break"
      ]
    },
    {
      "cell_type": "code",
      "execution_count": 18,
      "metadata": {
        "id": "2WOnHW7rmB4-"
      },
      "outputs": [],
      "source": [
        "while True :\n",
        "    df['Pressure9am']=df['Pressure9am'].fillna(df['Pressure9am'].rolling(6,min_periods=1).mean())\n",
        "    if df['Pressure9am'].isnull().any()==False:\n",
        "        break"
      ]
    },
    {
      "cell_type": "code",
      "execution_count": 19,
      "metadata": {
        "id": "6xlkEWAHmB4_"
      },
      "outputs": [],
      "source": [
        "while True :\n",
        "    df['Pressure3pm']=df['Pressure3pm'].fillna(df['Pressure3pm'].rolling(6,min_periods=1).mean())\n",
        "    if df['Pressure3pm'].isnull().any()==False:\n",
        "        break"
      ]
    },
    {
      "cell_type": "code",
      "execution_count": 20,
      "metadata": {
        "id": "Azizn6NwmB4_"
      },
      "outputs": [],
      "source": [
        "while True :\n",
        "    df['Temp9am']=df['Temp9am'].fillna(df['Temp9am'].rolling(6,min_periods=1).mean())\n",
        "    if df['Temp9am'].isnull().any()==False:\n",
        "        break"
      ]
    },
    {
      "cell_type": "code",
      "execution_count": 21,
      "metadata": {
        "id": "u0T2P4BcmB4_"
      },
      "outputs": [],
      "source": [
        "while True :\n",
        "    df['Temp3pm']=df['Temp3pm'].fillna(df['Temp3pm'].rolling(6,min_periods=1).mean())\n",
        "    if df['Temp3pm'].isnull().any()==False:\n",
        "        break"
      ]
    },
    {
      "cell_type": "code",
      "execution_count": 22,
      "metadata": {
        "colab": {
          "base_uri": "https://localhost:8080/"
        },
        "id": "9Hx5ETBKmB4_",
        "outputId": "dac6be96-4c81-42b4-de54-240dd86fd690"
      },
      "outputs": [
        {
          "data": {
            "text/plain": [
              "Date             False\n",
              "Location         False\n",
              "MinTemp          False\n",
              "MaxTemp          False\n",
              "Rainfall         False\n",
              "WindGustDir      False\n",
              "WindGustSpeed    False\n",
              "WindDir9am       False\n",
              "WindDir3pm       False\n",
              "WindSpeed9am     False\n",
              "WindSpeed3pm     False\n",
              "Humidity9am      False\n",
              "Humidity3pm      False\n",
              "Pressure9am      False\n",
              "Pressure3pm      False\n",
              "Temp9am          False\n",
              "Temp3pm          False\n",
              "RainToday        False\n",
              "RainTomorrow     False\n",
              "dtype: bool"
            ]
          },
          "execution_count": 22,
          "metadata": {},
          "output_type": "execute_result"
        }
      ],
      "source": [
        "df.isnull().any()"
      ]
    },
    {
      "cell_type": "code",
      "execution_count": 23,
      "metadata": {
        "colab": {
          "base_uri": "https://localhost:8080/"
        },
        "id": "G5u16XdCmB4_",
        "outputId": "c88914ea-2aa9-41d7-d0d7-af0a76298493"
      },
      "outputs": [
        {
          "data": {
            "text/plain": [
              "(123710, 19)"
            ]
          },
          "execution_count": 23,
          "metadata": {},
          "output_type": "execute_result"
        }
      ],
      "source": [
        "df.shape"
      ]
    },
    {
      "cell_type": "markdown",
      "metadata": {
        "id": "USagEUUTmB5A"
      },
      "source": [
        "Sekarang data sudah bersih tanpa missing values, dan sekarang data memiliki 123.710 baris dan 19 kolom.  "
      ]
    },
    {
      "cell_type": "markdown",
      "metadata": {
        "id": "oSxe4gxPmB5A"
      },
      "source": [
        "Mengingat bahwa curah hujan juga dapat meningkat ketika masa musim hujan tiba, maka akan kita cek terlebih dahulu keterkaitan waktu dengan curah hujan."
      ]
    },
    {
      "cell_type": "code",
      "execution_count": 24,
      "metadata": {
        "id": "CiDZkcHamB5B"
      },
      "outputs": [],
      "source": [
        "df['Date'] = pd.to_datetime(df['Date'])"
      ]
    },
    {
      "cell_type": "code",
      "execution_count": 25,
      "metadata": {
        "colab": {
          "base_uri": "https://localhost:8080/",
          "height": 206
        },
        "id": "rMOd2gcvmB5B",
        "outputId": "829ff92d-7c0e-4b5d-bb52-b81a16f8506c"
      },
      "outputs": [
        {
          "data": {
            "text/html": [
              "<div>\n",
              "<style scoped>\n",
              "    .dataframe tbody tr th:only-of-type {\n",
              "        vertical-align: middle;\n",
              "    }\n",
              "\n",
              "    .dataframe tbody tr th {\n",
              "        vertical-align: top;\n",
              "    }\n",
              "\n",
              "    .dataframe thead th {\n",
              "        text-align: right;\n",
              "    }\n",
              "</style>\n",
              "<table border=\"1\" class=\"dataframe\">\n",
              "  <thead>\n",
              "    <tr style=\"text-align: right;\">\n",
              "      <th></th>\n",
              "      <th>Month</th>\n",
              "    </tr>\n",
              "  </thead>\n",
              "  <tbody>\n",
              "    <tr>\n",
              "      <th>0</th>\n",
              "      <td>12</td>\n",
              "    </tr>\n",
              "    <tr>\n",
              "      <th>1</th>\n",
              "      <td>12</td>\n",
              "    </tr>\n",
              "    <tr>\n",
              "      <th>2</th>\n",
              "      <td>12</td>\n",
              "    </tr>\n",
              "    <tr>\n",
              "      <th>3</th>\n",
              "      <td>12</td>\n",
              "    </tr>\n",
              "    <tr>\n",
              "      <th>4</th>\n",
              "      <td>12</td>\n",
              "    </tr>\n",
              "  </tbody>\n",
              "</table>\n",
              "</div>"
            ],
            "text/plain": [
              "   Month\n",
              "0     12\n",
              "1     12\n",
              "2     12\n",
              "3     12\n",
              "4     12"
            ]
          },
          "execution_count": 25,
          "metadata": {},
          "output_type": "execute_result"
        }
      ],
      "source": [
        "df['Month'] = pd.DatetimeIndex(df['Date']).month\n",
        "df[['Month']].head()"
      ]
    },
    {
      "cell_type": "code",
      "execution_count": 26,
      "metadata": {
        "id": "9KW8S_lUmB5B"
      },
      "outputs": [],
      "source": [
        "df.drop(columns='Date', inplace=True)"
      ]
    },
    {
      "cell_type": "code",
      "execution_count": 27,
      "metadata": {
        "colab": {
          "base_uri": "https://localhost:8080/",
          "height": 270
        },
        "id": "QJtlvAtkmB5C",
        "outputId": "5f9d7206-de5b-498f-806c-f13b68730bc5"
      },
      "outputs": [
        {
          "data": {
            "text/html": [
              "<div>\n",
              "<style scoped>\n",
              "    .dataframe tbody tr th:only-of-type {\n",
              "        vertical-align: middle;\n",
              "    }\n",
              "\n",
              "    .dataframe tbody tr th {\n",
              "        vertical-align: top;\n",
              "    }\n",
              "\n",
              "    .dataframe thead th {\n",
              "        text-align: right;\n",
              "    }\n",
              "</style>\n",
              "<table border=\"1\" class=\"dataframe\">\n",
              "  <thead>\n",
              "    <tr style=\"text-align: right;\">\n",
              "      <th></th>\n",
              "      <th>Location</th>\n",
              "      <th>MinTemp</th>\n",
              "      <th>MaxTemp</th>\n",
              "      <th>Rainfall</th>\n",
              "      <th>WindGustDir</th>\n",
              "      <th>WindGustSpeed</th>\n",
              "      <th>WindDir9am</th>\n",
              "      <th>WindDir3pm</th>\n",
              "      <th>WindSpeed9am</th>\n",
              "      <th>WindSpeed3pm</th>\n",
              "      <th>Humidity9am</th>\n",
              "      <th>Humidity3pm</th>\n",
              "      <th>Pressure9am</th>\n",
              "      <th>Pressure3pm</th>\n",
              "      <th>Temp9am</th>\n",
              "      <th>Temp3pm</th>\n",
              "      <th>RainToday</th>\n",
              "      <th>RainTomorrow</th>\n",
              "      <th>Month</th>\n",
              "    </tr>\n",
              "  </thead>\n",
              "  <tbody>\n",
              "    <tr>\n",
              "      <th>0</th>\n",
              "      <td>Albury</td>\n",
              "      <td>13.4</td>\n",
              "      <td>22.9</td>\n",
              "      <td>0.6</td>\n",
              "      <td>W</td>\n",
              "      <td>44.0</td>\n",
              "      <td>W</td>\n",
              "      <td>WNW</td>\n",
              "      <td>20.0</td>\n",
              "      <td>24.0</td>\n",
              "      <td>71.0</td>\n",
              "      <td>22.0</td>\n",
              "      <td>1007.7</td>\n",
              "      <td>1007.1</td>\n",
              "      <td>16.9</td>\n",
              "      <td>21.8</td>\n",
              "      <td>No</td>\n",
              "      <td>No</td>\n",
              "      <td>12</td>\n",
              "    </tr>\n",
              "    <tr>\n",
              "      <th>1</th>\n",
              "      <td>Albury</td>\n",
              "      <td>7.4</td>\n",
              "      <td>25.1</td>\n",
              "      <td>0.0</td>\n",
              "      <td>WNW</td>\n",
              "      <td>44.0</td>\n",
              "      <td>NNW</td>\n",
              "      <td>WSW</td>\n",
              "      <td>4.0</td>\n",
              "      <td>22.0</td>\n",
              "      <td>44.0</td>\n",
              "      <td>25.0</td>\n",
              "      <td>1010.6</td>\n",
              "      <td>1007.8</td>\n",
              "      <td>17.2</td>\n",
              "      <td>24.3</td>\n",
              "      <td>No</td>\n",
              "      <td>No</td>\n",
              "      <td>12</td>\n",
              "    </tr>\n",
              "    <tr>\n",
              "      <th>2</th>\n",
              "      <td>Albury</td>\n",
              "      <td>12.9</td>\n",
              "      <td>25.7</td>\n",
              "      <td>0.0</td>\n",
              "      <td>WSW</td>\n",
              "      <td>46.0</td>\n",
              "      <td>W</td>\n",
              "      <td>WSW</td>\n",
              "      <td>19.0</td>\n",
              "      <td>26.0</td>\n",
              "      <td>38.0</td>\n",
              "      <td>30.0</td>\n",
              "      <td>1007.6</td>\n",
              "      <td>1008.7</td>\n",
              "      <td>21.0</td>\n",
              "      <td>23.2</td>\n",
              "      <td>No</td>\n",
              "      <td>No</td>\n",
              "      <td>12</td>\n",
              "    </tr>\n",
              "    <tr>\n",
              "      <th>3</th>\n",
              "      <td>Albury</td>\n",
              "      <td>9.2</td>\n",
              "      <td>28.0</td>\n",
              "      <td>0.0</td>\n",
              "      <td>NE</td>\n",
              "      <td>24.0</td>\n",
              "      <td>SE</td>\n",
              "      <td>E</td>\n",
              "      <td>11.0</td>\n",
              "      <td>9.0</td>\n",
              "      <td>45.0</td>\n",
              "      <td>16.0</td>\n",
              "      <td>1017.6</td>\n",
              "      <td>1012.8</td>\n",
              "      <td>18.1</td>\n",
              "      <td>26.5</td>\n",
              "      <td>No</td>\n",
              "      <td>No</td>\n",
              "      <td>12</td>\n",
              "    </tr>\n",
              "    <tr>\n",
              "      <th>4</th>\n",
              "      <td>Albury</td>\n",
              "      <td>17.5</td>\n",
              "      <td>32.3</td>\n",
              "      <td>1.0</td>\n",
              "      <td>W</td>\n",
              "      <td>41.0</td>\n",
              "      <td>ENE</td>\n",
              "      <td>NW</td>\n",
              "      <td>7.0</td>\n",
              "      <td>20.0</td>\n",
              "      <td>82.0</td>\n",
              "      <td>33.0</td>\n",
              "      <td>1010.8</td>\n",
              "      <td>1006.0</td>\n",
              "      <td>17.8</td>\n",
              "      <td>29.7</td>\n",
              "      <td>No</td>\n",
              "      <td>No</td>\n",
              "      <td>12</td>\n",
              "    </tr>\n",
              "  </tbody>\n",
              "</table>\n",
              "</div>"
            ],
            "text/plain": [
              "  Location  MinTemp  MaxTemp  Rainfall WindGustDir  WindGustSpeed WindDir9am  \\\n",
              "0   Albury     13.4     22.9       0.6           W           44.0          W   \n",
              "1   Albury      7.4     25.1       0.0         WNW           44.0        NNW   \n",
              "2   Albury     12.9     25.7       0.0         WSW           46.0          W   \n",
              "3   Albury      9.2     28.0       0.0          NE           24.0         SE   \n",
              "4   Albury     17.5     32.3       1.0           W           41.0        ENE   \n",
              "\n",
              "  WindDir3pm  WindSpeed9am  WindSpeed3pm  Humidity9am  Humidity3pm  \\\n",
              "0        WNW          20.0          24.0         71.0         22.0   \n",
              "1        WSW           4.0          22.0         44.0         25.0   \n",
              "2        WSW          19.0          26.0         38.0         30.0   \n",
              "3          E          11.0           9.0         45.0         16.0   \n",
              "4         NW           7.0          20.0         82.0         33.0   \n",
              "\n",
              "   Pressure9am  Pressure3pm  Temp9am  Temp3pm RainToday RainTomorrow  Month  \n",
              "0       1007.7       1007.1     16.9     21.8        No           No     12  \n",
              "1       1010.6       1007.8     17.2     24.3        No           No     12  \n",
              "2       1007.6       1008.7     21.0     23.2        No           No     12  \n",
              "3       1017.6       1012.8     18.1     26.5        No           No     12  \n",
              "4       1010.8       1006.0     17.8     29.7        No           No     12  "
            ]
          },
          "execution_count": 27,
          "metadata": {},
          "output_type": "execute_result"
        }
      ],
      "source": [
        "df.head()"
      ]
    },
    {
      "cell_type": "markdown",
      "metadata": {
        "id": "SperT7y2mB5C"
      },
      "source": [
        "#  Exploratory Data Analysis"
      ]
    },
    {
      "cell_type": "markdown",
      "metadata": {
        "id": "3CZFw8H3mB5C"
      },
      "source": [
        "### Proporsi label kelas target (RainTomorrow)"
      ]
    },
    {
      "cell_type": "code",
      "execution_count": 28,
      "metadata": {
        "colab": {
          "base_uri": "https://localhost:8080/",
          "height": 427
        },
        "id": "PGda_u75mB5C",
        "outputId": "530d5689-e9df-4494-9663-3a4422983d0c"
      },
      "outputs": [
        {
          "data": {
            "text/plain": [
              "<matplotlib.legend.Legend at 0x284f44f9c10>"
            ]
          },
          "execution_count": 28,
          "metadata": {},
          "output_type": "execute_result"
        },
        {
          "data": {
            "image/png": "[encoded data removed]",
            "text/plain": [
              "<Figure size 1152x432 with 2 Axes>"
            ]
          },
          "metadata": {
            "needs_background": "light"
          },
          "output_type": "display_data"
        }
      ],
      "source": [
        "fig, ax = plt.subplots(1,2,figsize=(16,6))\n",
        "\n",
        "# persentase \"Hari besok Hujan\"\n",
        "df['RainTomorrow'].value_counts().plot(\n",
        "    kind='pie',\n",
        "    autopct='%.1f%%',\n",
        "    explode=[0,0.05], \n",
        "    cmap='RdYlGn',\n",
        "    shadow=True,\n",
        "    ax=ax[0]\n",
        ")\n",
        "ax[0].set_title('Persentase Hari besok Hujan')\n",
        "ax[0].set_ylabel('')\n",
        "\n",
        "# Barchart besaran setiap nilai pada kelas target\n",
        "df.groupby('RainTomorrow').agg({'RainTomorrow':'count'}).plot(\n",
        "    kind='bar',\n",
        "    ax=ax[1]\n",
        ")\n",
        "ax[1].set_title('Jumlah masing-masing kelas untuk label Hari besok Hujan')\n",
        "ax[1].set_ylabel('Jumlah')\n",
        "ax[1].set_xlabel('Hari besok Hujan')\n",
        "ax[1].legend(title='Label Target')"
      ]
    },
    {
      "cell_type": "markdown",
      "metadata": {
        "id": "ZMGMdkZAmB5D"
      },
      "source": [
        "Proporsi kelas *yes* atau besok terjadi hujan sebesar 78% sedangkan kelas *no* sebesar 22%, hal ini mengindikasikan bahwa data tidak seimbang untuk kedua class label.\n"
      ]
    },
    {
      "cell_type": "markdown",
      "metadata": {
        "id": "jOo3USA2mB5D"
      },
      "source": [
        "### Bagaiamana curah hujan masing-masing kota?"
      ]
    },
    {
      "cell_type": "code",
      "execution_count": 29,
      "metadata": {
        "colab": {
          "base_uri": "https://localhost:8080/"
        },
        "id": "jcsFgBbNmB5D",
        "outputId": "110d2256-2480-45cf-8983-bb9f3e283cb3"
      },
      "outputs": [
        {
          "data": {
            "image/png": "[encoded data removed]",
            "text/plain": [
              "<Figure size 720x1296 with 1 Axes>"
            ]
          },
          "metadata": {
            "needs_background": "light"
          },
          "output_type": "display_data"
        }
      ],
      "source": [
        "kota_yes = df[\n",
        "    (df['RainTomorrow']==\"Yes\")\n",
        "].groupby('Location').agg({'RainTomorrow':'count'}).sort_values(by='RainTomorrow')\n",
        "kota_yes.plot(kind='barh', figsize=(10,18), color=['blue'])\n",
        "\n",
        "plt.xlabel(\"Total terjadinya hujan\", fontsize=14)\n",
        "plt.title(\"Jumlah terjadinya hujan pada masing-masing kota di Australia\")\n",
        "plt.legend()\n",
        "plt.show()"
      ]
    },
    {
      "cell_type": "markdown",
      "metadata": {
        "id": "zu1ugcicmB5D"
      },
      "source": [
        "Pada plot diatas dapat kita lihat bahwa kota **Portland**, **Cairns**, **NortfolkIsland**, **MountGambier** dan **Walpole** menjadi 5 kota dengan curah hujan tertinggi."
      ]
    },
    {
      "cell_type": "markdown",
      "metadata": {
        "id": "c1il6gdhmB5D"
      },
      "source": [
        "### Apakah terjadinya hujan hari ini berpengaruh terhadap terjadinya hujan esok hari?"
      ]
    },
    {
      "cell_type": "code",
      "execution_count": 30,
      "metadata": {
        "colab": {
          "base_uri": "https://localhost:8080/"
        },
        "id": "GmHykgvdmB5E",
        "outputId": "5641f9ee-8b42-4283-d8fc-735058eb33fe"
      },
      "outputs": [
        {
          "data": {
            "text/html": [
              "<div>\n",
              "<style scoped>\n",
              "    .dataframe tbody tr th:only-of-type {\n",
              "        vertical-align: middle;\n",
              "    }\n",
              "\n",
              "    .dataframe tbody tr th {\n",
              "        vertical-align: top;\n",
              "    }\n",
              "\n",
              "    .dataframe thead th {\n",
              "        text-align: right;\n",
              "    }\n",
              "</style>\n",
              "<table border=\"1\" class=\"dataframe\">\n",
              "  <thead>\n",
              "    <tr style=\"text-align: right;\">\n",
              "      <th>RainTomorrow</th>\n",
              "      <th>No</th>\n",
              "      <th>Yes</th>\n",
              "    </tr>\n",
              "    <tr>\n",
              "      <th>RainToday</th>\n",
              "      <th></th>\n",
              "      <th></th>\n",
              "    </tr>\n",
              "  </thead>\n",
              "  <tbody>\n",
              "    <tr>\n",
              "      <th>No</th>\n",
              "      <td>81476</td>\n",
              "      <td>14478</td>\n",
              "    </tr>\n",
              "    <tr>\n",
              "      <th>Yes</th>\n",
              "      <td>14842</td>\n",
              "      <td>12914</td>\n",
              "    </tr>\n",
              "  </tbody>\n",
              "</table>\n",
              "</div>"
            ],
            "text/plain": [
              "RainTomorrow     No    Yes\n",
              "RainToday                 \n",
              "No            81476  14478\n",
              "Yes           14842  12914"
            ]
          },
          "execution_count": 30,
          "metadata": {},
          "output_type": "execute_result"
        }
      ],
      "source": [
        "pd.crosstab(index = df['RainToday'], columns = df['RainTomorrow'])"
      ]
    },
    {
      "cell_type": "code",
      "execution_count": 31,
      "metadata": {
        "colab": {
          "base_uri": "https://localhost:8080/"
        },
        "id": "-ttrn3ztmB5E",
        "outputId": "9e603c16-2a56-40c0-fdd1-6c3845f67b13"
      },
      "outputs": [
        {
          "data": {
            "text/plain": [
              "<AxesSubplot:xlabel='RainToday', ylabel='count'>"
            ]
          },
          "execution_count": 31,
          "metadata": {},
          "output_type": "execute_result"
        },
        {
          "data": {
            "image/png": "[encoded data removed]",
            "text/plain": [
              "<Figure size 432x288 with 1 Axes>"
            ]
          },
          "metadata": {
            "needs_background": "light"
          },
          "output_type": "display_data"
        }
      ],
      "source": [
        "sns.countplot(\n",
        "    x='RainToday',\n",
        "    hue='RainTomorrow',\n",
        "    data=df\n",
        ")"
      ]
    },
    {
      "cell_type": "markdown",
      "metadata": {
        "id": "YCdk9zSZmB5E"
      },
      "source": [
        "Dari visualisasi dan tabel diatas dapat kita lihat bahwa jika hari ini terjadi hujan maka berkemungkinan besar besok akan terjadi hujan kembali, sedangkan jika hari ini tidak terjadi hujan maka kecil kemungkinan besok akan terjadi hujan."
      ]
    },
    {
      "cell_type": "markdown",
      "metadata": {
        "id": "qZhfIP8ImB5E"
      },
      "source": [
        "### Bagaimana intensitas curah hujan setiap bulannya?"
      ]
    },
    {
      "cell_type": "code",
      "execution_count": 32,
      "metadata": {
        "colab": {
          "base_uri": "https://localhost:8080/"
        },
        "id": "fAvrZb1nmB5E",
        "outputId": "c6f93dc9-c9b6-4dcb-d23a-f3395b9bb8e5"
      },
      "outputs": [
        {
          "data": {
            "text/plain": [
              "<AxesSubplot:xlabel='Month', ylabel='count'>"
            ]
          },
          "execution_count": 32,
          "metadata": {},
          "output_type": "execute_result"
        },
        {
          "data": {
            "image/png": "[encoded data removed]",
            "text/plain": [
              "<Figure size 432x288 with 1 Axes>"
            ]
          },
          "metadata": {
            "needs_background": "light"
          },
          "output_type": "display_data"
        }
      ],
      "source": [
        "sns.countplot(df['Month'], hue=df['RainTomorrow'])"
      ]
    },
    {
      "cell_type": "markdown",
      "metadata": {
        "id": "DFaEhMYKmB5E"
      },
      "source": [
        "Dari visualisasi diatas dapat kita lihat bahwa curah hujan yang turun di wilayah australia cukup stabil setiap bulannya, dan tidak mempunyai perbedaan yang cukup signifikan."
      ]
    },
    {
      "cell_type": "markdown",
      "metadata": {
        "id": "GvnXRtp2mB5F"
      },
      "source": [
        "### Bagaimana korelasi masing-masing variabel?"
      ]
    },
    {
      "cell_type": "markdown",
      "metadata": {
        "id": "b2cJNqp8mB5F"
      },
      "source": [
        "#### Korelasi kolom kategori"
      ]
    },
    {
      "cell_type": "code",
      "execution_count": 33,
      "metadata": {
        "colab": {
          "base_uri": "https://localhost:8080/"
        },
        "id": "RtUynEt6mB5F",
        "outputId": "7fd66f02-989c-4262-b1e6-1e05b35c7d1c"
      },
      "outputs": [
        {
          "data": {
            "text/html": [
              "<div>\n",
              "<style scoped>\n",
              "    .dataframe tbody tr th:only-of-type {\n",
              "        vertical-align: middle;\n",
              "    }\n",
              "\n",
              "    .dataframe tbody tr th {\n",
              "        vertical-align: top;\n",
              "    }\n",
              "\n",
              "    .dataframe thead th {\n",
              "        text-align: right;\n",
              "    }\n",
              "</style>\n",
              "<table border=\"1\" class=\"dataframe\">\n",
              "  <thead>\n",
              "    <tr style=\"text-align: right;\">\n",
              "      <th></th>\n",
              "      <th>Location</th>\n",
              "      <th>Month</th>\n",
              "      <th>WindGustDir</th>\n",
              "      <th>WindDir9am</th>\n",
              "      <th>WindDir3pm</th>\n",
              "      <th>RainToday</th>\n",
              "      <th>RainTomorrow</th>\n",
              "    </tr>\n",
              "  </thead>\n",
              "  <tbody>\n",
              "    <tr>\n",
              "      <th>0</th>\n",
              "      <td>1</td>\n",
              "      <td>11</td>\n",
              "      <td>13</td>\n",
              "      <td>13</td>\n",
              "      <td>14</td>\n",
              "      <td>0</td>\n",
              "      <td>0</td>\n",
              "    </tr>\n",
              "    <tr>\n",
              "      <th>1</th>\n",
              "      <td>1</td>\n",
              "      <td>11</td>\n",
              "      <td>14</td>\n",
              "      <td>6</td>\n",
              "      <td>15</td>\n",
              "      <td>0</td>\n",
              "      <td>0</td>\n",
              "    </tr>\n",
              "    <tr>\n",
              "      <th>2</th>\n",
              "      <td>1</td>\n",
              "      <td>11</td>\n",
              "      <td>15</td>\n",
              "      <td>13</td>\n",
              "      <td>15</td>\n",
              "      <td>0</td>\n",
              "      <td>0</td>\n",
              "    </tr>\n",
              "    <tr>\n",
              "      <th>3</th>\n",
              "      <td>1</td>\n",
              "      <td>11</td>\n",
              "      <td>4</td>\n",
              "      <td>9</td>\n",
              "      <td>0</td>\n",
              "      <td>0</td>\n",
              "      <td>0</td>\n",
              "    </tr>\n",
              "    <tr>\n",
              "      <th>4</th>\n",
              "      <td>1</td>\n",
              "      <td>11</td>\n",
              "      <td>13</td>\n",
              "      <td>1</td>\n",
              "      <td>7</td>\n",
              "      <td>0</td>\n",
              "      <td>0</td>\n",
              "    </tr>\n",
              "  </tbody>\n",
              "</table>\n",
              "</div>"
            ],
            "text/plain": [
              "   Location  Month  WindGustDir  WindDir9am  WindDir3pm  RainToday  \\\n",
              "0         1     11           13          13          14          0   \n",
              "1         1     11           14           6          15          0   \n",
              "2         1     11           15          13          15          0   \n",
              "3         1     11            4           9           0          0   \n",
              "4         1     11           13           1           7          0   \n",
              "\n",
              "   RainTomorrow  \n",
              "0             0  \n",
              "1             0  \n",
              "2             0  \n",
              "3             0  \n",
              "4             0  "
            ]
          },
          "execution_count": 33,
          "metadata": {},
          "output_type": "execute_result"
        }
      ],
      "source": [
        "# mengelompokan kolom yang memuat data kategori\n",
        "cat_cols=['Location','Month','WindGustDir','WindDir9am','WindDir3pm',\n",
        "         'RainToday','RainTomorrow']\n",
        "df_cat=df[cat_cols]\n",
        "#mengencode data kategori\n",
        "le=LabelEncoder()\n",
        "df_cat['Location']=le.fit_transform(df_cat['Location'])\n",
        "df_cat['Month']=le.fit_transform(df_cat['Month'])\n",
        "df_cat['WindGustDir']=le.fit_transform(df_cat['WindGustDir'])\n",
        "df_cat['WindDir9am']=le.fit_transform(df_cat['WindDir9am'])\n",
        "df_cat['WindDir3pm']=le.fit_transform(df_cat['WindDir3pm'])\n",
        "df_cat['RainToday']=le.fit_transform(df_cat['RainToday'])\n",
        "df_cat['RainTomorrow']=le.fit_transform(df_cat['RainTomorrow'])\n",
        "df_cat.head()"
      ]
    },
    {
      "cell_type": "code",
      "execution_count": 34,
      "metadata": {
        "colab": {
          "base_uri": "https://localhost:8080/"
        },
        "id": "m01htig3mB5F",
        "outputId": "8d972902-e9da-424a-89ee-4e96dffcc7ea"
      },
      "outputs": [
        {
          "data": {
            "image/png": "[encoded data removed]",
            "text/plain": [
              "<Figure size 720x576 with 2 Axes>"
            ]
          },
          "metadata": {
            "needs_background": "light"
          },
          "output_type": "display_data"
        }
      ],
      "source": [
        "plt.figure(figsize=(10,8))\n",
        "sns.heatmap(df_cat.corr(), annot=True)\n",
        "plt.show()"
      ]
    },
    {
      "cell_type": "markdown",
      "metadata": {
        "id": "-Hx_UOJvmB5F"
      },
      "source": [
        "Fitur yang memiliki korelasi diatas 0.3 yaitu WindGustdir,WindDir9am, dan WindDir3pm. Diantara ketiga fitur tersebut yang akan digunakan hanya WindGustDir agar tidak terjadi multikolinearitas"
      ]
    },
    {
      "cell_type": "code",
      "execution_count": 35,
      "metadata": {
        "id": "cqf_Y59JmB5G"
      },
      "outputs": [],
      "source": [
        "df_for_pred=df.drop(columns=['WindDir9am','WindDir3pm'])"
      ]
    },
    {
      "cell_type": "markdown",
      "metadata": {
        "id": "CD5uo3cMmB5G"
      },
      "source": [
        "#### Korelasi kolom numerik"
      ]
    },
    {
      "cell_type": "code",
      "execution_count": 36,
      "metadata": {
        "id": "NvaI9pmSmB5G"
      },
      "outputs": [],
      "source": [
        "kontinu_cols=['MinTemp','MaxTemp','Rainfall','WindGustSpeed','WindSpeed9am',\n",
        "             'WindSpeed3pm','Humidity9am','Humidity3pm','Pressure9am',\n",
        "             'Pressure3pm','Temp9am','Temp3pm',\n",
        "             'RainTomorrow']\n",
        "df_kontinu=df[kontinu_cols]\n",
        "df_kontinu['RainTomorrow']=le.fit_transform(df_kontinu['RainTomorrow'])"
      ]
    },
    {
      "cell_type": "code",
      "execution_count": 37,
      "metadata": {
        "colab": {
          "base_uri": "https://localhost:8080/"
        },
        "id": "FDBqAi-PmB5G",
        "outputId": "1c1461f2-d5ae-4956-cddb-8c60864b21be"
      },
      "outputs": [
        {
          "data": {
            "image/png": "[encoded data removed]",
            "text/plain": [
              "<Figure size 1080x1080 with 2 Axes>"
            ]
          },
          "metadata": {
            "needs_background": "light"
          },
          "output_type": "display_data"
        }
      ],
      "source": [
        "#memeriksa korelasi \n",
        "plt.figure(figsize=(15,15))\n",
        "sns.heatmap(df_kontinu.corr(), annot=True)\n",
        "plt.show()"
      ]
    },
    {
      "cell_type": "markdown",
      "metadata": {
        "id": "XkOrYrFRmB5H"
      },
      "source": [
        "- MinTemp dan MaxTemp memiliki korelasi diatas 0.3 dengan beberapa fitur lain maka tidak akan digunakan\n",
        "- Temp9am memiliki korelasi tinggi dengan Temp 3pm yaitu nilai koef korelasi : 0.85 maka hanya akan digunakan Temp3pm\n",
        "- WindGustdir, WindSpeed9am, dan WindSpeed3pm memiliki korelasi tinggi sehingga yang akan digunakan hanya WindGustSpeed\n",
        "- Humidity9am dan Humidity3pm memiliki korelasi tinggi sehingga yang akan digunakan adalah Humidity3pm\n",
        "- pressure 9am dengan pressure 3 pm juga memiliki korelasi yang sangat tinggi sehingga hanya akan digunakan salah satunya yaitu pressure 3pm"
      ]
    },
    {
      "cell_type": "code",
      "execution_count": 38,
      "metadata": {
        "colab": {
          "base_uri": "https://localhost:8080/"
        },
        "id": "N5fVDa3ImB5H",
        "outputId": "444386b8-7f93-43d6-a126-f54fa8cd9fba"
      },
      "outputs": [
        {
          "data": {
            "text/html": [
              "<div>\n",
              "<style scoped>\n",
              "    .dataframe tbody tr th:only-of-type {\n",
              "        vertical-align: middle;\n",
              "    }\n",
              "\n",
              "    .dataframe tbody tr th {\n",
              "        vertical-align: top;\n",
              "    }\n",
              "\n",
              "    .dataframe thead th {\n",
              "        text-align: right;\n",
              "    }\n",
              "</style>\n",
              "<table border=\"1\" class=\"dataframe\">\n",
              "  <thead>\n",
              "    <tr style=\"text-align: right;\">\n",
              "      <th></th>\n",
              "      <th>Location</th>\n",
              "      <th>Rainfall</th>\n",
              "      <th>WindGustDir</th>\n",
              "      <th>WindGustSpeed</th>\n",
              "      <th>Humidity3pm</th>\n",
              "      <th>Pressure3pm</th>\n",
              "      <th>Temp3pm</th>\n",
              "      <th>RainToday</th>\n",
              "      <th>RainTomorrow</th>\n",
              "      <th>Month</th>\n",
              "    </tr>\n",
              "  </thead>\n",
              "  <tbody>\n",
              "    <tr>\n",
              "      <th>0</th>\n",
              "      <td>Albury</td>\n",
              "      <td>0.6</td>\n",
              "      <td>W</td>\n",
              "      <td>44.0</td>\n",
              "      <td>22.0</td>\n",
              "      <td>1007.1</td>\n",
              "      <td>21.8</td>\n",
              "      <td>No</td>\n",
              "      <td>No</td>\n",
              "      <td>12</td>\n",
              "    </tr>\n",
              "    <tr>\n",
              "      <th>1</th>\n",
              "      <td>Albury</td>\n",
              "      <td>0.0</td>\n",
              "      <td>WNW</td>\n",
              "      <td>44.0</td>\n",
              "      <td>25.0</td>\n",
              "      <td>1007.8</td>\n",
              "      <td>24.3</td>\n",
              "      <td>No</td>\n",
              "      <td>No</td>\n",
              "      <td>12</td>\n",
              "    </tr>\n",
              "    <tr>\n",
              "      <th>2</th>\n",
              "      <td>Albury</td>\n",
              "      <td>0.0</td>\n",
              "      <td>WSW</td>\n",
              "      <td>46.0</td>\n",
              "      <td>30.0</td>\n",
              "      <td>1008.7</td>\n",
              "      <td>23.2</td>\n",
              "      <td>No</td>\n",
              "      <td>No</td>\n",
              "      <td>12</td>\n",
              "    </tr>\n",
              "    <tr>\n",
              "      <th>3</th>\n",
              "      <td>Albury</td>\n",
              "      <td>0.0</td>\n",
              "      <td>NE</td>\n",
              "      <td>24.0</td>\n",
              "      <td>16.0</td>\n",
              "      <td>1012.8</td>\n",
              "      <td>26.5</td>\n",
              "      <td>No</td>\n",
              "      <td>No</td>\n",
              "      <td>12</td>\n",
              "    </tr>\n",
              "    <tr>\n",
              "      <th>4</th>\n",
              "      <td>Albury</td>\n",
              "      <td>1.0</td>\n",
              "      <td>W</td>\n",
              "      <td>41.0</td>\n",
              "      <td>33.0</td>\n",
              "      <td>1006.0</td>\n",
              "      <td>29.7</td>\n",
              "      <td>No</td>\n",
              "      <td>No</td>\n",
              "      <td>12</td>\n",
              "    </tr>\n",
              "  </tbody>\n",
              "</table>\n",
              "</div>"
            ],
            "text/plain": [
              "  Location  Rainfall WindGustDir  WindGustSpeed  Humidity3pm  Pressure3pm  \\\n",
              "0   Albury       0.6           W           44.0         22.0       1007.1   \n",
              "1   Albury       0.0         WNW           44.0         25.0       1007.8   \n",
              "2   Albury       0.0         WSW           46.0         30.0       1008.7   \n",
              "3   Albury       0.0          NE           24.0         16.0       1012.8   \n",
              "4   Albury       1.0           W           41.0         33.0       1006.0   \n",
              "\n",
              "   Temp3pm RainToday RainTomorrow  Month  \n",
              "0     21.8        No           No     12  \n",
              "1     24.3        No           No     12  \n",
              "2     23.2        No           No     12  \n",
              "3     26.5        No           No     12  \n",
              "4     29.7        No           No     12  "
            ]
          },
          "execution_count": 38,
          "metadata": {},
          "output_type": "execute_result"
        }
      ],
      "source": [
        "#menghapus kolom dari fitur yang korelasinya tinggi dengan fitur lain \n",
        "del_cols=['MinTemp','MaxTemp','Temp9am','WindSpeed9am','WindSpeed3pm','Humidity9am','Pressure9am']\n",
        "df_for_pred=df_for_pred.drop(columns=del_cols)\n",
        "df_for_pred.head()"
      ]
    },
    {
      "cell_type": "markdown",
      "metadata": {
        "id": "qxJxDD2SmB5H"
      },
      "source": [
        "Apakah semakin tinggi kelembapan udara akan mengakibatkan makin tingginya curah hujan?"
      ]
    },
    {
      "cell_type": "code",
      "execution_count": 39,
      "metadata": {
        "colab": {
          "base_uri": "https://localhost:8080/"
        },
        "id": "xb0xbw8mmB5H",
        "outputId": "9967e98a-479f-44bf-c969-1db0413f827e"
      },
      "outputs": [
        {
          "data": {
            "text/plain": [
              "array([[1.        , 0.25548868],\n",
              "       [0.25548868, 1.        ]])"
            ]
          },
          "execution_count": 39,
          "metadata": {},
          "output_type": "execute_result"
        }
      ],
      "source": [
        "np.corrcoef(df['Humidity3pm'], df['Rainfall'])"
      ]
    },
    {
      "cell_type": "code",
      "execution_count": 40,
      "metadata": {
        "colab": {
          "base_uri": "https://localhost:8080/"
        },
        "id": "99EsPeogmB5H",
        "outputId": "dd99bfed-d19a-4951-a1cb-d342d1054b1e"
      },
      "outputs": [
        {
          "data": {
            "image/png": "[encoded data removed]",
            "text/plain": [
              "<Figure size 720x432 with 1 Axes>"
            ]
          },
          "metadata": {
            "needs_background": "light"
          },
          "output_type": "display_data"
        }
      ],
      "source": [
        "#melihat arah hubungan rainfall dengan humidity\n",
        "df_kontinu.plot(kind='scatter',x='Humidity3pm', y='Rainfall',\n",
        "               figsize=(10,6))\n",
        "plt.title('Humidity vs Rainfall')\n",
        "plt.show()\n"
      ]
    },
    {
      "cell_type": "markdown",
      "metadata": {
        "id": "l9PdG-4rmB5I"
      },
      "source": [
        "Hubungan antara variabel Humidity3pm dan Rainfall cukup lemah dengan nilai korelasi 0.25, yang artinya pengaruh kelembapan meningkatkan curah hujan tidak terlalu besar. Namun dari visualisasi dapat kita lihat bisa saja tingkat kelembapan pada beberapa case dapat meningkatkan curah hujan secara signifikan."
      ]
    },
    {
      "cell_type": "markdown",
      "metadata": {
        "id": "_bWf5ZWamB5I"
      },
      "source": [
        "# Data Preprocessing"
      ]
    },
    {
      "cell_type": "markdown",
      "metadata": {
        "id": "a7qLXLq2mB5I"
      },
      "source": [
        "Melihat penamaan label encoder pada data kategori - Location"
      ]
    },
    {
      "cell_type": "code",
      "execution_count": 41,
      "metadata": {
        "colab": {
          "base_uri": "https://localhost:8080/",
          "height": 1000
        },
        "id": "JkFwEyXzmB5I",
        "outputId": "8fec21bf-368d-4f8b-9914-61d8bf2b4de2"
      },
      "outputs": [
        {
          "data": {
            "text/html": [
              "<div>\n",
              "<style scoped>\n",
              "    .dataframe tbody tr th:only-of-type {\n",
              "        vertical-align: middle;\n",
              "    }\n",
              "\n",
              "    .dataframe tbody tr th {\n",
              "        vertical-align: top;\n",
              "    }\n",
              "\n",
              "    .dataframe thead th {\n",
              "        text-align: right;\n",
              "    }\n",
              "</style>\n",
              "<table border=\"1\" class=\"dataframe\">\n",
              "  <thead>\n",
              "    <tr style=\"text-align: right;\">\n",
              "      <th></th>\n",
              "      <th>Location</th>\n",
              "    </tr>\n",
              "    <tr>\n",
              "      <th>Label_loc</th>\n",
              "      <th></th>\n",
              "    </tr>\n",
              "  </thead>\n",
              "  <tbody>\n",
              "    <tr>\n",
              "      <th>0</th>\n",
              "      <td>Adelaide</td>\n",
              "    </tr>\n",
              "    <tr>\n",
              "      <th>1</th>\n",
              "      <td>Albury</td>\n",
              "    </tr>\n",
              "    <tr>\n",
              "      <th>2</th>\n",
              "      <td>AliceSprings</td>\n",
              "    </tr>\n",
              "    <tr>\n",
              "      <th>3</th>\n",
              "      <td>BadgerysCreek</td>\n",
              "    </tr>\n",
              "    <tr>\n",
              "      <th>4</th>\n",
              "      <td>Ballarat</td>\n",
              "    </tr>\n",
              "    <tr>\n",
              "      <th>5</th>\n",
              "      <td>Bendigo</td>\n",
              "    </tr>\n",
              "    <tr>\n",
              "      <th>6</th>\n",
              "      <td>Brisbane</td>\n",
              "    </tr>\n",
              "    <tr>\n",
              "      <th>7</th>\n",
              "      <td>Cairns</td>\n",
              "    </tr>\n",
              "    <tr>\n",
              "      <th>8</th>\n",
              "      <td>Canberra</td>\n",
              "    </tr>\n",
              "    <tr>\n",
              "      <th>9</th>\n",
              "      <td>Cobar</td>\n",
              "    </tr>\n",
              "    <tr>\n",
              "      <th>10</th>\n",
              "      <td>CoffsHarbour</td>\n",
              "    </tr>\n",
              "    <tr>\n",
              "      <th>11</th>\n",
              "      <td>Dartmoor</td>\n",
              "    </tr>\n",
              "    <tr>\n",
              "      <th>12</th>\n",
              "      <td>Darwin</td>\n",
              "    </tr>\n",
              "    <tr>\n",
              "      <th>13</th>\n",
              "      <td>GoldCoast</td>\n",
              "    </tr>\n",
              "    <tr>\n",
              "      <th>14</th>\n",
              "      <td>Hobart</td>\n",
              "    </tr>\n",
              "    <tr>\n",
              "      <th>15</th>\n",
              "      <td>Katherine</td>\n",
              "    </tr>\n",
              "    <tr>\n",
              "      <th>16</th>\n",
              "      <td>Launceston</td>\n",
              "    </tr>\n",
              "    <tr>\n",
              "      <th>17</th>\n",
              "      <td>Melbourne</td>\n",
              "    </tr>\n",
              "    <tr>\n",
              "      <th>18</th>\n",
              "      <td>MelbourneAirport</td>\n",
              "    </tr>\n",
              "    <tr>\n",
              "      <th>19</th>\n",
              "      <td>Mildura</td>\n",
              "    </tr>\n",
              "    <tr>\n",
              "      <th>20</th>\n",
              "      <td>Moree</td>\n",
              "    </tr>\n",
              "    <tr>\n",
              "      <th>21</th>\n",
              "      <td>MountGambier</td>\n",
              "    </tr>\n",
              "    <tr>\n",
              "      <th>22</th>\n",
              "      <td>MountGinini</td>\n",
              "    </tr>\n",
              "    <tr>\n",
              "      <th>23</th>\n",
              "      <td>Nhil</td>\n",
              "    </tr>\n",
              "    <tr>\n",
              "      <th>24</th>\n",
              "      <td>NorahHead</td>\n",
              "    </tr>\n",
              "    <tr>\n",
              "      <th>25</th>\n",
              "      <td>NorfolkIsland</td>\n",
              "    </tr>\n",
              "    <tr>\n",
              "      <th>26</th>\n",
              "      <td>Nuriootpa</td>\n",
              "    </tr>\n",
              "    <tr>\n",
              "      <th>27</th>\n",
              "      <td>PearceRAAF</td>\n",
              "    </tr>\n",
              "    <tr>\n",
              "      <th>28</th>\n",
              "      <td>Penrith</td>\n",
              "    </tr>\n",
              "    <tr>\n",
              "      <th>29</th>\n",
              "      <td>Perth</td>\n",
              "    </tr>\n",
              "    <tr>\n",
              "      <th>30</th>\n",
              "      <td>PerthAirport</td>\n",
              "    </tr>\n",
              "    <tr>\n",
              "      <th>31</th>\n",
              "      <td>Portland</td>\n",
              "    </tr>\n",
              "    <tr>\n",
              "      <th>32</th>\n",
              "      <td>Richmond</td>\n",
              "    </tr>\n",
              "    <tr>\n",
              "      <th>33</th>\n",
              "      <td>Sale</td>\n",
              "    </tr>\n",
              "    <tr>\n",
              "      <th>34</th>\n",
              "      <td>SalmonGums</td>\n",
              "    </tr>\n",
              "    <tr>\n",
              "      <th>35</th>\n",
              "      <td>Sydney</td>\n",
              "    </tr>\n",
              "    <tr>\n",
              "      <th>36</th>\n",
              "      <td>SydneyAirport</td>\n",
              "    </tr>\n",
              "    <tr>\n",
              "      <th>37</th>\n",
              "      <td>Townsville</td>\n",
              "    </tr>\n",
              "    <tr>\n",
              "      <th>38</th>\n",
              "      <td>Tuggeranong</td>\n",
              "    </tr>\n",
              "    <tr>\n",
              "      <th>39</th>\n",
              "      <td>Uluru</td>\n",
              "    </tr>\n",
              "    <tr>\n",
              "      <th>40</th>\n",
              "      <td>WaggaWagga</td>\n",
              "    </tr>\n",
              "    <tr>\n",
              "      <th>41</th>\n",
              "      <td>Walpole</td>\n",
              "    </tr>\n",
              "    <tr>\n",
              "      <th>42</th>\n",
              "      <td>Watsonia</td>\n",
              "    </tr>\n",
              "    <tr>\n",
              "      <th>43</th>\n",
              "      <td>Williamtown</td>\n",
              "    </tr>\n",
              "    <tr>\n",
              "      <th>44</th>\n",
              "      <td>Witchcliffe</td>\n",
              "    </tr>\n",
              "    <tr>\n",
              "      <th>45</th>\n",
              "      <td>Wollongong</td>\n",
              "    </tr>\n",
              "    <tr>\n",
              "      <th>46</th>\n",
              "      <td>Woomera</td>\n",
              "    </tr>\n",
              "  </tbody>\n",
              "</table>\n",
              "</div>"
            ],
            "text/plain": [
              "                   Location\n",
              "Label_loc                  \n",
              "0                  Adelaide\n",
              "1                    Albury\n",
              "2              AliceSprings\n",
              "3             BadgerysCreek\n",
              "4                  Ballarat\n",
              "5                   Bendigo\n",
              "6                  Brisbane\n",
              "7                    Cairns\n",
              "8                  Canberra\n",
              "9                     Cobar\n",
              "10             CoffsHarbour\n",
              "11                 Dartmoor\n",
              "12                   Darwin\n",
              "13                GoldCoast\n",
              "14                   Hobart\n",
              "15                Katherine\n",
              "16               Launceston\n",
              "17                Melbourne\n",
              "18         MelbourneAirport\n",
              "19                  Mildura\n",
              "20                    Moree\n",
              "21             MountGambier\n",
              "22              MountGinini\n",
              "23                     Nhil\n",
              "24                NorahHead\n",
              "25            NorfolkIsland\n",
              "26                Nuriootpa\n",
              "27               PearceRAAF\n",
              "28                  Penrith\n",
              "29                    Perth\n",
              "30             PerthAirport\n",
              "31                 Portland\n",
              "32                 Richmond\n",
              "33                     Sale\n",
              "34               SalmonGums\n",
              "35                   Sydney\n",
              "36            SydneyAirport\n",
              "37               Townsville\n",
              "38              Tuggeranong\n",
              "39                    Uluru\n",
              "40               WaggaWagga\n",
              "41                  Walpole\n",
              "42                 Watsonia\n",
              "43              Williamtown\n",
              "44              Witchcliffe\n",
              "45               Wollongong\n",
              "46                  Woomera"
            ]
          },
          "execution_count": 41,
          "metadata": {},
          "output_type": "execute_result"
        }
      ],
      "source": [
        "df_label_loc=pd.DataFrame({'Location':df_for_pred['Location'].unique(),\n",
        "              'Label_loc':df_cat['Location'].unique()}).sort_values(by='Label_loc',ascending=True)\n",
        "df_label_loc=df_label_loc.set_index(keys='Label_loc',drop=True)\n",
        "df_label_loc"
      ]
    },
    {
      "cell_type": "markdown",
      "metadata": {
        "id": "ol-42dpsmB5J"
      },
      "source": [
        "Melihat penamaan label encoder pada data kategori - WindGustDir"
      ]
    },
    {
      "cell_type": "code",
      "execution_count": 42,
      "metadata": {
        "colab": {
          "base_uri": "https://localhost:8080/",
          "height": 582
        },
        "id": "-9lj1M8HmB5J",
        "outputId": "12ce8bf6-63c0-459c-e0ef-6c799c6e47e9"
      },
      "outputs": [
        {
          "data": {
            "text/html": [
              "<div>\n",
              "<style scoped>\n",
              "    .dataframe tbody tr th:only-of-type {\n",
              "        vertical-align: middle;\n",
              "    }\n",
              "\n",
              "    .dataframe tbody tr th {\n",
              "        vertical-align: top;\n",
              "    }\n",
              "\n",
              "    .dataframe thead th {\n",
              "        text-align: right;\n",
              "    }\n",
              "</style>\n",
              "<table border=\"1\" class=\"dataframe\">\n",
              "  <thead>\n",
              "    <tr style=\"text-align: right;\">\n",
              "      <th></th>\n",
              "      <th>WindGustDir</th>\n",
              "    </tr>\n",
              "    <tr>\n",
              "      <th>Label_wind</th>\n",
              "      <th></th>\n",
              "    </tr>\n",
              "  </thead>\n",
              "  <tbody>\n",
              "    <tr>\n",
              "      <th>0</th>\n",
              "      <td>E</td>\n",
              "    </tr>\n",
              "    <tr>\n",
              "      <th>1</th>\n",
              "      <td>ENE</td>\n",
              "    </tr>\n",
              "    <tr>\n",
              "      <th>2</th>\n",
              "      <td>ESE</td>\n",
              "    </tr>\n",
              "    <tr>\n",
              "      <th>3</th>\n",
              "      <td>N</td>\n",
              "    </tr>\n",
              "    <tr>\n",
              "      <th>4</th>\n",
              "      <td>NE</td>\n",
              "    </tr>\n",
              "    <tr>\n",
              "      <th>5</th>\n",
              "      <td>NNE</td>\n",
              "    </tr>\n",
              "    <tr>\n",
              "      <th>6</th>\n",
              "      <td>NNW</td>\n",
              "    </tr>\n",
              "    <tr>\n",
              "      <th>7</th>\n",
              "      <td>NW</td>\n",
              "    </tr>\n",
              "    <tr>\n",
              "      <th>8</th>\n",
              "      <td>S</td>\n",
              "    </tr>\n",
              "    <tr>\n",
              "      <th>9</th>\n",
              "      <td>SE</td>\n",
              "    </tr>\n",
              "    <tr>\n",
              "      <th>10</th>\n",
              "      <td>SSE</td>\n",
              "    </tr>\n",
              "    <tr>\n",
              "      <th>11</th>\n",
              "      <td>SSW</td>\n",
              "    </tr>\n",
              "    <tr>\n",
              "      <th>12</th>\n",
              "      <td>SW</td>\n",
              "    </tr>\n",
              "    <tr>\n",
              "      <th>13</th>\n",
              "      <td>W</td>\n",
              "    </tr>\n",
              "    <tr>\n",
              "      <th>14</th>\n",
              "      <td>WNW</td>\n",
              "    </tr>\n",
              "    <tr>\n",
              "      <th>15</th>\n",
              "      <td>WSW</td>\n",
              "    </tr>\n",
              "  </tbody>\n",
              "</table>\n",
              "</div>"
            ],
            "text/plain": [
              "           WindGustDir\n",
              "Label_wind            \n",
              "0                    E\n",
              "1                  ENE\n",
              "2                  ESE\n",
              "3                    N\n",
              "4                   NE\n",
              "5                  NNE\n",
              "6                  NNW\n",
              "7                   NW\n",
              "8                    S\n",
              "9                   SE\n",
              "10                 SSE\n",
              "11                 SSW\n",
              "12                  SW\n",
              "13                   W\n",
              "14                 WNW\n",
              "15                 WSW"
            ]
          },
          "execution_count": 42,
          "metadata": {},
          "output_type": "execute_result"
        }
      ],
      "source": [
        "df_label_wind=pd.DataFrame({'WindGustDir':df_for_pred['WindGustDir'].unique(),\n",
        "              'Label_wind':df_cat['WindGustDir'].unique()}).sort_values(by='Label_wind',ascending=True)\n",
        "df_label_wind=df_label_wind.set_index(keys='Label_wind',drop=True)\n",
        "df_label_wind"
      ]
    },
    {
      "cell_type": "markdown",
      "metadata": {
        "id": "N-71yN_5mB5J"
      },
      "source": [
        "Mengganti kolom kategori dengan label yang telah di encode sebelumnya"
      ]
    },
    {
      "cell_type": "code",
      "execution_count": 43,
      "metadata": {
        "colab": {
          "base_uri": "https://localhost:8080/",
          "height": 206
        },
        "id": "_1FUgiUdmB5J",
        "outputId": "33135cf9-79c1-4afe-87dd-c65314f29ad3"
      },
      "outputs": [
        {
          "data": {
            "text/html": [
              "<div>\n",
              "<style scoped>\n",
              "    .dataframe tbody tr th:only-of-type {\n",
              "        vertical-align: middle;\n",
              "    }\n",
              "\n",
              "    .dataframe tbody tr th {\n",
              "        vertical-align: top;\n",
              "    }\n",
              "\n",
              "    .dataframe thead th {\n",
              "        text-align: right;\n",
              "    }\n",
              "</style>\n",
              "<table border=\"1\" class=\"dataframe\">\n",
              "  <thead>\n",
              "    <tr style=\"text-align: right;\">\n",
              "      <th></th>\n",
              "      <th>Location</th>\n",
              "      <th>Rainfall</th>\n",
              "      <th>WindGustDir</th>\n",
              "      <th>WindGustSpeed</th>\n",
              "      <th>Humidity3pm</th>\n",
              "      <th>Pressure3pm</th>\n",
              "      <th>Temp3pm</th>\n",
              "      <th>RainToday</th>\n",
              "      <th>RainTomorrow</th>\n",
              "      <th>Month</th>\n",
              "    </tr>\n",
              "  </thead>\n",
              "  <tbody>\n",
              "    <tr>\n",
              "      <th>0</th>\n",
              "      <td>1</td>\n",
              "      <td>0.6</td>\n",
              "      <td>13</td>\n",
              "      <td>44.0</td>\n",
              "      <td>22.0</td>\n",
              "      <td>1007.1</td>\n",
              "      <td>21.8</td>\n",
              "      <td>0</td>\n",
              "      <td>0</td>\n",
              "      <td>12</td>\n",
              "    </tr>\n",
              "    <tr>\n",
              "      <th>1</th>\n",
              "      <td>1</td>\n",
              "      <td>0.0</td>\n",
              "      <td>14</td>\n",
              "      <td>44.0</td>\n",
              "      <td>25.0</td>\n",
              "      <td>1007.8</td>\n",
              "      <td>24.3</td>\n",
              "      <td>0</td>\n",
              "      <td>0</td>\n",
              "      <td>12</td>\n",
              "    </tr>\n",
              "    <tr>\n",
              "      <th>2</th>\n",
              "      <td>1</td>\n",
              "      <td>0.0</td>\n",
              "      <td>15</td>\n",
              "      <td>46.0</td>\n",
              "      <td>30.0</td>\n",
              "      <td>1008.7</td>\n",
              "      <td>23.2</td>\n",
              "      <td>0</td>\n",
              "      <td>0</td>\n",
              "      <td>12</td>\n",
              "    </tr>\n",
              "    <tr>\n",
              "      <th>3</th>\n",
              "      <td>1</td>\n",
              "      <td>0.0</td>\n",
              "      <td>4</td>\n",
              "      <td>24.0</td>\n",
              "      <td>16.0</td>\n",
              "      <td>1012.8</td>\n",
              "      <td>26.5</td>\n",
              "      <td>0</td>\n",
              "      <td>0</td>\n",
              "      <td>12</td>\n",
              "    </tr>\n",
              "    <tr>\n",
              "      <th>4</th>\n",
              "      <td>1</td>\n",
              "      <td>1.0</td>\n",
              "      <td>13</td>\n",
              "      <td>41.0</td>\n",
              "      <td>33.0</td>\n",
              "      <td>1006.0</td>\n",
              "      <td>29.7</td>\n",
              "      <td>0</td>\n",
              "      <td>0</td>\n",
              "      <td>12</td>\n",
              "    </tr>\n",
              "  </tbody>\n",
              "</table>\n",
              "</div>"
            ],
            "text/plain": [
              "   Location  Rainfall  WindGustDir  WindGustSpeed  Humidity3pm  Pressure3pm  \\\n",
              "0         1       0.6           13           44.0         22.0       1007.1   \n",
              "1         1       0.0           14           44.0         25.0       1007.8   \n",
              "2         1       0.0           15           46.0         30.0       1008.7   \n",
              "3         1       0.0            4           24.0         16.0       1012.8   \n",
              "4         1       1.0           13           41.0         33.0       1006.0   \n",
              "\n",
              "   Temp3pm  RainToday  RainTomorrow  Month  \n",
              "0     21.8          0             0     12  \n",
              "1     24.3          0             0     12  \n",
              "2     23.2          0             0     12  \n",
              "3     26.5          0             0     12  \n",
              "4     29.7          0             0     12  "
            ]
          },
          "execution_count": 43,
          "metadata": {},
          "output_type": "execute_result"
        }
      ],
      "source": [
        "df_for_pred['Location']=df_cat['Location']\n",
        "df_for_pred['WindGustDir']=df_cat['WindGustDir']\n",
        "df_for_pred['RainToday']=df_cat['RainToday']\n",
        "df_for_pred['RainTomorrow']=df_cat['RainTomorrow']\n",
        "df_for_pred.head()"
      ]
    },
    {
      "cell_type": "markdown",
      "metadata": {
        "id": "9lhMfFD1mB5J"
      },
      "source": [
        "Memisahkan variabel independen dan dependen"
      ]
    },
    {
      "cell_type": "code",
      "execution_count": 44,
      "metadata": {
        "id": "c3LJwsOKmB5J"
      },
      "outputs": [],
      "source": [
        "X = df_for_pred.drop(columns=['RainTomorrow'])\n",
        "y = df_for_pred['RainTomorrow']"
      ]
    },
    {
      "cell_type": "markdown",
      "metadata": {
        "id": "BV-KWAwXmB5K"
      },
      "source": [
        "Membagi data untuk training dan testing"
      ]
    },
    {
      "cell_type": "code",
      "execution_count": 45,
      "metadata": {
        "id": "5uTl5251mB5K"
      },
      "outputs": [],
      "source": [
        "X_train,X_test,y_train,y_test = train_test_split(X,y, test_size=0.3, random_state=40)"
      ]
    },
    {
      "cell_type": "markdown",
      "metadata": {
        "id": "IFkB_ZzumB5K"
      },
      "source": [
        "Menstandardize data testing dan training"
      ]
    },
    {
      "cell_type": "code",
      "execution_count": 46,
      "metadata": {
        "id": "sUJfsXtSmB5K"
      },
      "outputs": [],
      "source": [
        "scaler = StandardScaler()\n",
        "X_train = scaler.fit_transform(X_train)\n",
        "X_test = scaler.fit_transform(X_test)"
      ]
    },
    {
      "cell_type": "markdown",
      "metadata": {
        "id": "5691d610"
      },
      "source": [
        "# Defining Model"
      ]
    },
    {
      "cell_type": "markdown",
      "metadata": {
        "id": "333f9c70"
      },
      "source": [
        "Model yang akan digunakan pada proek ini adalah Logistic Regression dan SVM \n",
        "- Logistic Regression, memprediksi probabilitas sampel data untuk klasifikasi danumumnya cocok untuk klasifikasi biner sehingga kemungkinan akan cocok dalam projek ini dimana output berupa 0 untuk No dan 1 untuk yes\n",
        "- SVM, baik digunakan dalam menangani masalah non linear dan mengelompokannya menjadi ruang dengan dimensi lebih tinggi. SVM dapat digunakan untuk memecahkan masalah regresi maupun klasifikasi. "
      ]
    },
    {
      "cell_type": "markdown",
      "metadata": {
        "id": "32f4d94b"
      },
      "source": [
        "## Logistic Regression"
      ]
    },
    {
      "cell_type": "code",
      "execution_count": 47,
      "metadata": {
        "id": "a61dc9d5"
      },
      "outputs": [],
      "source": [
        "model_lr = LogisticRegression(solver='liblinear',\n",
        "                              class_weight='balanced',\n",
        "                              random_state=40)"
      ]
    },
    {
      "cell_type": "markdown",
      "metadata": {
        "id": "3c59f448"
      },
      "source": [
        "## SVM"
      ]
    },
    {
      "cell_type": "code",
      "execution_count": 48,
      "metadata": {
        "id": "ceae491f"
      },
      "outputs": [],
      "source": [
        "model_svm = SVC(kernel='linear', class_weight='balanced')"
      ]
    },
    {
      "cell_type": "markdown",
      "metadata": {
        "id": "c276940c"
      },
      "source": [
        "# Model Training"
      ]
    },
    {
      "cell_type": "markdown",
      "metadata": {
        "id": "bc096205"
      },
      "source": [
        "## Logistic Regression"
      ]
    },
    {
      "cell_type": "code",
      "execution_count": 49,
      "metadata": {
        "colab": {
          "base_uri": "https://localhost:8080/"
        },
        "id": "eaaec8e7",
        "outputId": "b7a4fe55-99c3-400a-d5be-164ecc55ae4a"
      },
      "outputs": [
        {
          "data": {
            "text/plain": [
              "LogisticRegression(class_weight='balanced', random_state=40, solver='liblinear')"
            ]
          },
          "execution_count": 49,
          "metadata": {},
          "output_type": "execute_result"
        }
      ],
      "source": [
        "model_lr.fit(X_train,y_train)"
      ]
    },
    {
      "cell_type": "code",
      "execution_count": 50,
      "metadata": {
        "colab": {
          "base_uri": "https://localhost:8080/"
        },
        "id": "7a9455bf",
        "outputId": "c2d04b20-958b-43d9-94d7-2920c8437465"
      },
      "outputs": [
        {
          "data": {
            "text/plain": [
              "array([0, 1])"
            ]
          },
          "execution_count": 50,
          "metadata": {},
          "output_type": "execute_result"
        }
      ],
      "source": [
        "#mengecek output dari model\n",
        "model_lr.classes_"
      ]
    },
    {
      "cell_type": "code",
      "execution_count": 51,
      "metadata": {
        "colab": {
          "base_uri": "https://localhost:8080/"
        },
        "id": "d0eefcb6",
        "outputId": "95063db7-3cf8-41ce-a5c1-d09df5b2dbf3"
      },
      "outputs": [
        {
          "data": {
            "text/plain": [
              "array([-0.53274398])"
            ]
          },
          "execution_count": 51,
          "metadata": {},
          "output_type": "execute_result"
        }
      ],
      "source": [
        "#melihat intercept model\n",
        "model_lr.intercept_"
      ]
    },
    {
      "cell_type": "code",
      "execution_count": 52,
      "metadata": {
        "colab": {
          "base_uri": "https://localhost:8080/"
        },
        "id": "eda368e1",
        "outputId": "3a9dd43a-fcf2-4c5a-f4ab-2e53db900b50"
      },
      "outputs": [
        {
          "data": {
            "text/plain": [
              "array([[-0.02252788,  0.09767931, -0.02932732,  0.50617217,  1.26463662,\n",
              "        -0.46708211, -0.01476239,  0.21759447,  0.03220306]])"
            ]
          },
          "execution_count": 52,
          "metadata": {},
          "output_type": "execute_result"
        }
      ],
      "source": [
        "#melihat koefisien model\n",
        "model_lr.coef_"
      ]
    },
    {
      "cell_type": "markdown",
      "metadata": {
        "id": "d15015f9"
      },
      "source": [
        "## SVM"
      ]
    },
    {
      "cell_type": "code",
      "execution_count": 53,
      "metadata": {
        "colab": {
          "base_uri": "https://localhost:8080/"
        },
        "id": "ecf42026",
        "outputId": "44a3fa36-564d-49f9-9b7e-e5db9392b327"
      },
      "outputs": [
        {
          "data": {
            "text/plain": [
              "SVC(class_weight='balanced', kernel='linear')"
            ]
          },
          "execution_count": 53,
          "metadata": {},
          "output_type": "execute_result"
        }
      ],
      "source": [
        "model_svm.fit(X_train,y_train)"
      ]
    },
    {
      "cell_type": "code",
      "execution_count": 54,
      "metadata": {
        "colab": {
          "base_uri": "https://localhost:8080/"
        },
        "id": "7bb169e6",
        "outputId": "d4dce516-21d6-4603-fd7b-6933d352b203"
      },
      "outputs": [
        {
          "data": {
            "text/plain": [
              "array([-0.45195824])"
            ]
          },
          "execution_count": 54,
          "metadata": {},
          "output_type": "execute_result"
        }
      ],
      "source": [
        "#melihat intercept model\n",
        "model_svm.intercept_"
      ]
    },
    {
      "cell_type": "code",
      "execution_count": 55,
      "metadata": {
        "colab": {
          "base_uri": "https://localhost:8080/"
        },
        "id": "ac1877a3",
        "outputId": "7e90a110-d8df-426a-c0be-85e2e59d1b47"
      },
      "outputs": [
        {
          "data": {
            "text/plain": [
              "array([[-0.03544784,  0.05904353, -0.02112216,  0.41789226,  1.0017981 ,\n",
              "        -0.36250222, -0.00349393,  0.20260095,  0.01945719]])"
            ]
          },
          "execution_count": 55,
          "metadata": {},
          "output_type": "execute_result"
        }
      ],
      "source": [
        "#melihat koefisien model\n",
        "model_svm.coef_"
      ]
    },
    {
      "cell_type": "markdown",
      "metadata": {
        "id": "5741580f"
      },
      "source": [
        "# Model Evaluation"
      ]
    },
    {
      "cell_type": "markdown",
      "metadata": {
        "id": "25c90687"
      },
      "source": [
        "## Logistic Regression"
      ]
    },
    {
      "cell_type": "code",
      "execution_count": 56,
      "metadata": {
        "colab": {
          "base_uri": "https://localhost:8080/"
        },
        "id": "33fbae93",
        "outputId": "86e806a1-1d05-4155-e91c-d990a6925c3e"
      },
      "outputs": [
        {
          "data": {
            "text/plain": [
              "array([[0.74439014, 0.25560986],\n",
              "       [0.58384695, 0.41615305],\n",
              "       [0.54888625, 0.45111375],\n",
              "       ...,\n",
              "       [0.88435891, 0.11564109],\n",
              "       [0.05094044, 0.94905956],\n",
              "       [0.78297313, 0.21702687]])"
            ]
          },
          "execution_count": 56,
          "metadata": {},
          "output_type": "execute_result"
        }
      ],
      "source": [
        "#melihat hasil prediksi probabilitasnya\n",
        "model_lr.predict_proba(X_train)"
      ]
    },
    {
      "cell_type": "code",
      "execution_count": 57,
      "metadata": {
        "colab": {
          "base_uri": "https://localhost:8080/"
        },
        "id": "cc2280c6",
        "outputId": "2b368250-5e95-4e80-aefb-9262662ecbac"
      },
      "outputs": [
        {
          "data": {
            "text/plain": [
              "0.7772440153815952"
            ]
          },
          "execution_count": 57,
          "metadata": {},
          "output_type": "execute_result"
        }
      ],
      "source": [
        "model_lr.score(X_train,y_train)"
      ]
    },
    {
      "cell_type": "markdown",
      "metadata": {
        "id": "0bd99677"
      },
      "source": [
        "akurasi model cukup baik pada model training selanjutnya akan dilakukan testing "
      ]
    },
    {
      "cell_type": "code",
      "execution_count": 58,
      "metadata": {
        "id": "9591d6c2"
      },
      "outputs": [],
      "source": [
        "#testing model\n",
        "y_pred_lr=model_lr.predict(X_test)"
      ]
    },
    {
      "cell_type": "code",
      "execution_count": 59,
      "metadata": {
        "colab": {
          "base_uri": "https://localhost:8080/",
          "height": 298
        },
        "id": "8626185c",
        "outputId": "54824e8f-30fa-439f-e959-6a1c7e55c52e"
      },
      "outputs": [
        {
          "data": {
            "text/plain": [
              "<sklearn.metrics._plot.confusion_matrix.ConfusionMatrixDisplay at 0x284f4a25280>"
            ]
          },
          "execution_count": 59,
          "metadata": {},
          "output_type": "execute_result"
        },
        {
          "data": {
            "image/png": "[encoded data removed]",
            "text/plain": [
              "<Figure size 432x288 with 2 Axes>"
            ]
          },
          "metadata": {
            "needs_background": "light"
          },
          "output_type": "display_data"
        }
      ],
      "source": [
        "#membuat visualisasi confusion matrix\n",
        "ConfusionMatrixDisplay.from_estimator(model_lr, X_test, y_test)"
      ]
    },
    {
      "cell_type": "code",
      "execution_count": 60,
      "metadata": {
        "colab": {
          "base_uri": "https://localhost:8080/"
        },
        "id": "9155b501",
        "outputId": "83a46c76-df0a-4781-ec4b-5289c15b327d"
      },
      "outputs": [
        {
          "data": {
            "text/plain": [
              "0.7790262172284644"
            ]
          },
          "execution_count": 60,
          "metadata": {},
          "output_type": "execute_result"
        }
      ],
      "source": [
        "#melihat akurasi pada hasil testing\n",
        "model_lr.score(X_test,y_test)"
      ]
    },
    {
      "cell_type": "markdown",
      "metadata": {
        "id": "b2619e62"
      },
      "source": [
        "akurasi sudah cukup baik, tetapi masih perlu dilihat ukuran lainnya sebagai bahan evaluasi"
      ]
    },
    {
      "cell_type": "code",
      "execution_count": 61,
      "metadata": {
        "colab": {
          "base_uri": "https://localhost:8080/"
        },
        "id": "02336fc4",
        "outputId": "6ded958c-bf7a-457a-e9a8-e7964f40aabb"
      },
      "outputs": [
        {
          "name": "stdout",
          "output_type": "stream",
          "text": [
            "              precision    recall  f1-score   support\n",
            "\n",
            "           0       0.92      0.78      0.85     28902\n",
            "           1       0.50      0.76      0.60      8211\n",
            "\n",
            "    accuracy                           0.78     37113\n",
            "   macro avg       0.71      0.77      0.72     37113\n",
            "weighted avg       0.83      0.78      0.79     37113\n",
            "\n"
          ]
        }
      ],
      "source": [
        "print(classification_report(y_test,y_pred_lr))"
      ]
    },
    {
      "cell_type": "markdown",
      "metadata": {
        "id": "defe9dec"
      },
      "source": [
        "meskipun tingkat akurasinya dibawah 80% namun recall nya menunjukan hasil yang baik dimanaperbandingan hasil yang diprediksi dengan benar cukup tinggi persentasenya"
      ]
    },
    {
      "cell_type": "code",
      "execution_count": 62,
      "metadata": {
        "colab": {
          "base_uri": "https://localhost:8080/",
          "height": 332
        },
        "id": "6991d1f3",
        "outputId": "8da06a18-b9a5-44ce-b1d4-b983f748929b"
      },
      "outputs": [
        {
          "data": {
            "text/html": [
              "<div>\n",
              "<style scoped>\n",
              "    .dataframe tbody tr th:only-of-type {\n",
              "        vertical-align: middle;\n",
              "    }\n",
              "\n",
              "    .dataframe tbody tr th {\n",
              "        vertical-align: top;\n",
              "    }\n",
              "\n",
              "    .dataframe thead th {\n",
              "        text-align: right;\n",
              "    }\n",
              "</style>\n",
              "<table border=\"1\" class=\"dataframe\">\n",
              "  <thead>\n",
              "    <tr style=\"text-align: right;\">\n",
              "      <th></th>\n",
              "      <th>Feature Name</th>\n",
              "      <th>Feature Importance</th>\n",
              "    </tr>\n",
              "  </thead>\n",
              "  <tbody>\n",
              "    <tr>\n",
              "      <th>8</th>\n",
              "      <td>Humidity3pm</td>\n",
              "      <td>1.264637</td>\n",
              "    </tr>\n",
              "    <tr>\n",
              "      <th>7</th>\n",
              "      <td>WindGustSpeed</td>\n",
              "      <td>0.506172</td>\n",
              "    </tr>\n",
              "    <tr>\n",
              "      <th>6</th>\n",
              "      <td>RainToday</td>\n",
              "      <td>0.217594</td>\n",
              "    </tr>\n",
              "    <tr>\n",
              "      <th>5</th>\n",
              "      <td>Rainfall</td>\n",
              "      <td>0.097679</td>\n",
              "    </tr>\n",
              "    <tr>\n",
              "      <th>4</th>\n",
              "      <td>Month</td>\n",
              "      <td>0.032203</td>\n",
              "    </tr>\n",
              "    <tr>\n",
              "      <th>3</th>\n",
              "      <td>Temp3pm</td>\n",
              "      <td>-0.014762</td>\n",
              "    </tr>\n",
              "    <tr>\n",
              "      <th>2</th>\n",
              "      <td>Location</td>\n",
              "      <td>-0.022528</td>\n",
              "    </tr>\n",
              "    <tr>\n",
              "      <th>1</th>\n",
              "      <td>WindGustDir</td>\n",
              "      <td>-0.029327</td>\n",
              "    </tr>\n",
              "    <tr>\n",
              "      <th>0</th>\n",
              "      <td>Pressure3pm</td>\n",
              "      <td>-0.467082</td>\n",
              "    </tr>\n",
              "  </tbody>\n",
              "</table>\n",
              "</div>"
            ],
            "text/plain": [
              "    Feature Name  Feature Importance\n",
              "8    Humidity3pm            1.264637\n",
              "7  WindGustSpeed            0.506172\n",
              "6      RainToday            0.217594\n",
              "5       Rainfall            0.097679\n",
              "4          Month            0.032203\n",
              "3        Temp3pm           -0.014762\n",
              "2       Location           -0.022528\n",
              "1    WindGustDir           -0.029327\n",
              "0    Pressure3pm           -0.467082"
            ]
          },
          "execution_count": 62,
          "metadata": {},
          "output_type": "execute_result"
        }
      ],
      "source": [
        "#melihat feature importance\n",
        "importance=model_lr.coef_[0]\n",
        "sorted_index=np.argsort(importance)\n",
        "labels=X.columns[sorted_index]\n",
        "df_importance=pd.DataFrame({'Feature Name': labels,\n",
        "                            'Feature Importance' : importance[sorted_index]})\n",
        "df_importance=df_importance.sort_values(by=['Feature Importance'], ascending=False)\n",
        "df_importance"
      ]
    },
    {
      "cell_type": "code",
      "execution_count": 63,
      "metadata": {
        "colab": {
          "base_uri": "https://localhost:8080/",
          "height": 297
        },
        "id": "797fc916",
        "outputId": "68e102b0-ca99-4de3-bd4a-a06feea75d04"
      },
      "outputs": [
        {
          "data": {
            "image/png": "[encoded data removed]",
            "text/plain": [
              "<Figure size 432x288 with 1 Axes>"
            ]
          },
          "metadata": {
            "needs_background": "light"
          },
          "output_type": "display_data"
        }
      ],
      "source": [
        "sns.barplot(x=df_importance['Feature Importance'],\n",
        "            y=df_importance['Feature Name'])\n",
        "plt.title('Importance Features', fontsize=15)\n",
        "plt.show()"
      ]
    },
    {
      "cell_type": "markdown",
      "metadata": {
        "id": "2dd83fa4"
      },
      "source": [
        "Beberapa fitur hampir tidak menerangkan bahwa besok akan terjad hujan atau tidak. Fitur-fitur tersebut diantaranya Month, Temp 3 pm, Location, dan WindGustDir. Selanjutnya fitur-fitur tersebut akan dihapus untuk melihat apakah akurasi dapat ditingkatkan dengan menghilangkan fitur tersebut"
      ]
    },
    {
      "cell_type": "code",
      "execution_count": 64,
      "metadata": {
        "id": "538e0f10"
      },
      "outputs": [],
      "source": [
        "#membuat dataframe baru yang hanya berisi fitur-fitur penting\n",
        "df_for_pred2=df_for_pred.drop(columns=['Month','Temp3pm',\n",
        "                              'Location','WindGustDir'])"
      ]
    },
    {
      "cell_type": "code",
      "execution_count": 65,
      "metadata": {
        "colab": {
          "base_uri": "https://localhost:8080/"
        },
        "id": "d9cb30dd",
        "outputId": "3270c516-0a20-4d0e-f8f0-abd1e55cf0c4"
      },
      "outputs": [
        {
          "data": {
            "text/plain": [
              "LogisticRegression(class_weight='balanced', random_state=40, solver='liblinear')"
            ]
          },
          "execution_count": 65,
          "metadata": {},
          "output_type": "execute_result"
        }
      ],
      "source": [
        "#menginisialisasi ulang input dan output\n",
        "X2=df_for_pred2.drop(columns=['RainTomorrow'])\n",
        "y2=df_for_pred2['RainTomorrow']\n",
        "#membagi data untuk training dan testing\n",
        "X_train2, X_test2, y_train2, y_test2=train_test_split(X2, y2, test_size=.3)\n",
        "#menstandardize data\n",
        "X_train2=scaler.fit_transform(X_train2)\n",
        "X_test2=scaler.fit_transform(X_test2)\n",
        "#membuat model\n",
        "model_lr2=LogisticRegression(solver='liblinear',\n",
        "                              class_weight='balanced',\n",
        "                              random_state=40)\n",
        "model_lr2.fit(X_train2,y_train2)"
      ]
    },
    {
      "cell_type": "code",
      "execution_count": 66,
      "metadata": {
        "id": "d1aa2e0a"
      },
      "outputs": [],
      "source": [
        "#menyimpan model_LR2 untuk digunakan dalam deployment\n",
        "pickle.dump(model_lr2,open('model_lr2.pkl','wb'))"
      ]
    },
    {
      "cell_type": "code",
      "execution_count": 67,
      "metadata": {
        "colab": {
          "base_uri": "https://localhost:8080/"
        },
        "id": "6c5a8159",
        "outputId": "fc792cff-f97f-45e9-b606-9fcb33aeeb2b"
      },
      "outputs": [
        {
          "data": {
            "text/plain": [
              "0.7791955841426378"
            ]
          },
          "execution_count": 67,
          "metadata": {},
          "output_type": "execute_result"
        }
      ],
      "source": [
        "#mengevaluasi model\n",
        "model_lr2.score(X_train2,y_train2)"
      ]
    },
    {
      "cell_type": "code",
      "execution_count": 68,
      "metadata": {
        "colab": {
          "base_uri": "https://localhost:8080/"
        },
        "id": "83970e9a",
        "outputId": "f7dd3c8f-3841-49bc-f171-ff6a7e9d51f8"
      },
      "outputs": [
        {
          "data": {
            "text/plain": [
              "0.7743108883679574"
            ]
          },
          "execution_count": 68,
          "metadata": {},
          "output_type": "execute_result"
        }
      ],
      "source": [
        "model_lr2.score(X_test2,y_test2)"
      ]
    },
    {
      "cell_type": "code",
      "execution_count": 69,
      "metadata": {
        "id": "370de25f"
      },
      "outputs": [],
      "source": [
        "y_pred_lr2=model_lr2.predict(X_test2)\n"
      ]
    },
    {
      "cell_type": "code",
      "execution_count": 70,
      "metadata": {
        "colab": {
          "base_uri": "https://localhost:8080/"
        },
        "id": "5564e295",
        "outputId": "82ac17fc-4476-475d-97a4-cf15932cb98e"
      },
      "outputs": [
        {
          "name": "stdout",
          "output_type": "stream",
          "text": [
            "              precision    recall  f1-score   support\n",
            "\n",
            "           0       0.92      0.78      0.84     28899\n",
            "           1       0.49      0.75      0.60      8214\n",
            "\n",
            "    accuracy                           0.77     37113\n",
            "   macro avg       0.70      0.77      0.72     37113\n",
            "weighted avg       0.82      0.77      0.79     37113\n",
            "\n"
          ]
        }
      ],
      "source": [
        "print(classification_report(y_test2,y_pred_lr2))"
      ]
    },
    {
      "cell_type": "markdown",
      "metadata": {
        "id": "dc52184d"
      },
      "source": [
        "Dengan meniadakan beberapa fitur tersebut tingkat akurasi sedikit menurun. Sehingga tidak masalah jika fitur tersebut tidak diikut sertakan dalam prediksi"
      ]
    },
    {
      "cell_type": "markdown",
      "metadata": {
        "id": "ba1722c9"
      },
      "source": [
        "## SVM"
      ]
    },
    {
      "cell_type": "code",
      "execution_count": 71,
      "metadata": {
        "id": "c6eb209e"
      },
      "outputs": [],
      "source": [
        "y_pred_svm=model_svm.predict(X_test)"
      ]
    },
    {
      "cell_type": "code",
      "execution_count": 72,
      "metadata": {
        "colab": {
          "base_uri": "https://localhost:8080/"
        },
        "id": "edGyYN-Aex-o",
        "outputId": "43172f33-05b2-45b6-cad9-cea3438004e9"
      },
      "outputs": [
        {
          "data": {
            "text/plain": [
              "0.7814127510190885"
            ]
          },
          "execution_count": 72,
          "metadata": {},
          "output_type": "execute_result"
        }
      ],
      "source": [
        "model_svm.score(X_train, y_train)"
      ]
    },
    {
      "cell_type": "code",
      "execution_count": 73,
      "metadata": {
        "colab": {
          "base_uri": "https://localhost:8080/"
        },
        "id": "LYsBIOlue2AL",
        "outputId": "bdfa2585-84a7-4e41-bc85-ba23879064f0"
      },
      "outputs": [
        {
          "data": {
            "text/plain": [
              "0.7826637566351413"
            ]
          },
          "execution_count": 73,
          "metadata": {},
          "output_type": "execute_result"
        }
      ],
      "source": [
        "model_svm.score(X_test, y_test)"
      ]
    },
    {
      "cell_type": "code",
      "execution_count": 74,
      "metadata": {
        "colab": {
          "base_uri": "https://localhost:8080/",
          "height": 296
        },
        "id": "32c07774",
        "outputId": "b3a26098-0b18-4b79-874c-98ebb88bd9ad"
      },
      "outputs": [
        {
          "data": {
            "text/plain": [
              "<sklearn.metrics._plot.confusion_matrix.ConfusionMatrixDisplay at 0x284f5838730>"
            ]
          },
          "execution_count": 74,
          "metadata": {},
          "output_type": "execute_result"
        },
        {
          "data": {
            "image/png": "[encoded data removed]",
            "text/plain": [
              "<Figure size 432x288 with 2 Axes>"
            ]
          },
          "metadata": {
            "needs_background": "light"
          },
          "output_type": "display_data"
        }
      ],
      "source": [
        "#membuat visualisasi confusion matrix\n",
        "ConfusionMatrixDisplay.from_estimator(model_svm, X_test, y_test)"
      ]
    },
    {
      "cell_type": "code",
      "execution_count": 75,
      "metadata": {
        "colab": {
          "base_uri": "https://localhost:8080/"
        },
        "id": "602a0b0f",
        "outputId": "4c146a8f-70ee-4237-841e-184cda9ad295"
      },
      "outputs": [
        {
          "name": "stdout",
          "output_type": "stream",
          "text": [
            "              precision    recall  f1-score   support\n",
            "\n",
            "           0       0.92      0.79      0.85     28902\n",
            "           1       0.51      0.75      0.60      8211\n",
            "\n",
            "    accuracy                           0.78     37113\n",
            "   macro avg       0.71      0.77      0.73     37113\n",
            "weighted avg       0.83      0.78      0.80     37113\n",
            "\n"
          ]
        }
      ],
      "source": [
        "print(classification_report(y_test,y_pred_svm))"
      ]
    },
    {
      "cell_type": "markdown",
      "metadata": {
        "id": "141abe76"
      },
      "source": [
        "Tingkat presisi, akurasi, serta recall pada model sedikit lebih tinggi dengan Logistic Regression namun SVM lebih memakan banyak memory serta performanya lebih lambat dan berat dibanding Logistic Regression. Untuk itu diputuskan untuk menggunakan Logistic Regression."
      ]
    },
    {
      "cell_type": "markdown",
      "metadata": {
        "id": "178bc7d5"
      },
      "source": [
        "# Model Inference"
      ]
    },
    {
      "cell_type": "code",
      "execution_count": 76,
      "metadata": {
        "colab": {
          "base_uri": "https://localhost:8080/"
        },
        "id": "2cd6849a",
        "outputId": "6ee1d7dd-533b-41e2-f936-571f5acb3342"
      },
      "outputs": [
        {
          "name": "stdout",
          "output_type": "stream",
          "text": [
            "Diprediksi besok tidak akan hujan\n"
          ]
        }
      ],
      "source": [
        "#prediksi hujan dengan input diluar dataset\n",
        "rainfall=float(input('Curah hujan(mm) :'))\n",
        "wind=float(input('Kecepatan angin (km/h):'))\n",
        "humidity=float(input('Kelembaban Udara(%) :'))\n",
        "pressure=float(input('Tekanan udara(hpa) :'))\n",
        "rain=input('hari ini hujan ?(yes/no)')\n",
        "pred_input=[rainfall,wind,humidity,pressure]\n",
        "if rain=='yes':\n",
        "    pred_input.append(1)\n",
        "elif rain=='no':\n",
        "    pred_input.append(0)\n",
        "pred_output=model_lr2.predict([pred_input])\n",
        "if pred_output==1:\n",
        "    prediction=' akan hujan'\n",
        "elif pred_output==0:\n",
        "    prediction='tidak akan hujan'\n",
        "print(f'Diprediksi besok {prediction}')"
      ]
    },
    {
      "cell_type": "markdown",
      "metadata": {},
      "source": [
        "input dari output di atas: <br>\n",
        "curah hujan = 0 <br>\n",
        "kecepatan angin = 50 <br>\n",
        "kelembapan udara = 30 <br>\n",
        "tekanan udara = 1000 <br>\n",
        "hari ini hujan = no <br>"
      ]
    },
    {
      "cell_type": "markdown",
      "metadata": {
        "id": "df7959b1"
      },
      "source": [
        "# Conclusion"
      ]
    },
    {
      "cell_type": "markdown",
      "metadata": {
        "id": "4ae7249e"
      },
      "source": [
        "-  Probabilitas hujan hampir merata namun terdapa beberapa lokasi yang sangat jarang terjadi hujan seperti Nhil, Mildura, Katherin, dan Uluru namun lokasi tidak berpengaruh pada prediksi hujan \n",
        "- Humidity dan temperature memilki korelasi negatif yang cukup tinggi dimana semakin tinggi temperatur semakin rendah kelembaban udara. Pada prediksi hujan hanya digunakan humidity karena koefisien pada variabel temp sangat rendah hal ini kemungkinan besar disebabkan akibat multikolinearitas. Untuk itu setelah dilakukan evaluasi fitur temperaure tidak digunakan bersamaan dengan beberapa fitur lainnya yaitu 'Month','Temp3pm', 'Location','WindGustDir'\n",
        "- Fitur yang digunakan dalam model prediksi yaitu 'Rainfall', 'WindGustSpeed', 'Humidity3pm', 'Pressure3pm', 'RainToday','RainTomorrow'\n",
        "- Keakuratan model Logistic Regression dan SVM menunjukan hasil yang hampir sama\n",
        "- Akurasi prediksi ada diangka 78% dengan recall diatas 70% yang menunjukan prediksi sudah cukup akurat dan ketepatam prediksi untuk masing-masing kelas juga cukup tinggi\n",
        "- Logistic Regression dipilih karena lebih ringan dan cepat performanya dibanding SVM"
      ]
    }
  ],
  "metadata": {
    "colab": {
      "collapsed_sections": [
        "Txob9T-6mB44",
        "mqP56-hWmB46",
        "ADshiWZ3mB48",
        "SperT7y2mB5C",
        "3CZFw8H3mB5C",
        "jOo3USA2mB5D",
        "c1il6gdhmB5D",
        "qZhfIP8ImB5E",
        "GvnXRtp2mB5F",
        "b2cJNqp8mB5F",
        "CD5uo3cMmB5G",
        "_bWf5ZWamB5I",
        "5691d610",
        "32f4d94b",
        "3c59f448",
        "c276940c",
        "bc096205",
        "d15015f9",
        "5741580f",
        "25c90687",
        "ba1722c9",
        "178bc7d5",
        "df7959b1"
      ],
      "provenance": []
    },
    "kernelspec": {
      "display_name": "Python 3.9.12 ('base')",
      "language": "python",
      "name": "python3"
    },
    "language_info": {
      "codemirror_mode": {
        "name": "ipython",
        "version": 3
      },
      "file_extension": ".py",
      "mimetype": "text/x-python",
      "name": "python",
      "nbconvert_exporter": "python",
      "pygments_lexer": "ipython3",
      "version": "3.9.12"
    },
    "vscode": {
      "interpreter": {
        "hash": "38cbdbe4c206cfadfd206d01256502e3ef24a9225394cc7226a39b708fbc0b15"
      }
    }
  },
  "nbformat": 4,
  "nbformat_minor": 0
}
